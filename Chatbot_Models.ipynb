{
  "cells": [
    {
      "cell_type": "markdown",
      "metadata": {
        "id": "view-in-github",
        "colab_type": "text"
      },
      "source": [
        "<a href=\"https://colab.research.google.com/github/radwaahmed20112000/QA-Chatbot/blob/main/Chatbot_Models.ipynb\" target=\"_parent\"><img src=\"https://colab.research.google.com/assets/colab-badge.svg\" alt=\"Open In Colab\"/></a>"
      ]
    },
    {
      "cell_type": "markdown",
      "metadata": {
        "id": "TRVgaBD4LbAt"
      },
      "source": [
        "# **Data Preprocessing**"
      ]
    },
    {
      "cell_type": "markdown",
      "metadata": {
        "id": "OQ55uEL75kWA"
      },
      "source": [
        "## Data Preparation"
      ]
    },
    {
      "cell_type": "markdown",
      "metadata": {
        "id": "j7g8jMkdLk1p"
      },
      "source": [
        "### Imports\n"
      ]
    },
    {
      "cell_type": "code",
      "execution_count": null,
      "metadata": {
        "id": "vFwY_5F6Tyiz"
      },
      "outputs": [],
      "source": [
        "import numpy as np\n",
        "import pandas as pd \n",
        "import os\n",
        "import io\n",
        "import gzip\n",
        "from google.colab import drive\n",
        "from sklearn.model_selection import train_test_split"
      ]
    },
    {
      "cell_type": "code",
      "execution_count": null,
      "metadata": {
        "id": "PlqXiQqaWgGi"
      },
      "outputs": [],
      "source": [
        "drive.mount('/content/drive')"
      ]
    },
    {
      "cell_type": "code",
      "execution_count": null,
      "metadata": {
        "id": "wMjaXyIJjbiL"
      },
      "outputs": [],
      "source": [
        "from keras import backend as K\n",
        "K._get_available_gpus()"
      ]
    },
    {
      "cell_type": "markdown",
      "metadata": {
        "id": "Aw2Vc9JLn_Bw"
      },
      "source": [
        "### Global Variables"
      ]
    },
    {
      "cell_type": "code",
      "execution_count": null,
      "metadata": {
        "id": "_hOe6a6cnmOA"
      },
      "outputs": [],
      "source": [
        "drive_root_path = '/content/drive/My Drive/Colab Notebooks/chatbot project/Chatbot/'\n",
        "test_dev_ratio = 0.1\n",
        "gener_examples = 20000\n",
        "train_set = dev_set = test_set = pd.DataFrame(columns=['question','answer'])"
      ]
    },
    {
      "cell_type": "markdown",
      "metadata": {
        "id": "Q9UQ7bNlLsxh"
      },
      "source": [
        "### Dataset parsing\n"
      ]
    },
    {
      "cell_type": "code",
      "execution_count": null,
      "metadata": {
        "id": "yd3GxwkLNp9C"
      },
      "outputs": [],
      "source": [
        "def parse(path):\n",
        "  g = gzip.open(path, 'rb')\n",
        "  \n",
        "  for l in g:\n",
        "    yield eval(l)"
      ]
    },
    {
      "cell_type": "code",
      "execution_count": null,
      "metadata": {
        "id": "4FIKct3eY7ew"
      },
      "outputs": [],
      "source": [
        "def getDF(path):\n",
        "  i = 0\n",
        "  df = {}\n",
        "\n",
        "  for d in parse(path):\n",
        "    df[i] = d\n",
        "    i += 1\n",
        "    \n",
        "  return pd.DataFrame.from_dict(df, orient='index')"
      ]
    },
    {
      "cell_type": "markdown",
      "metadata": {
        "id": "SxaUfrJ30ui9"
      },
      "source": [
        "## Clean Data"
      ]
    },
    {
      "cell_type": "markdown",
      "metadata": {
        "id": "Dn5pEaVw13L-"
      },
      "source": [
        "### Imports\n"
      ]
    },
    {
      "cell_type": "code",
      "execution_count": null,
      "metadata": {
        "id": "Ie555-6W16sB"
      },
      "outputs": [],
      "source": [
        "import string\n",
        "import re\n",
        "import nltk\n",
        "from nltk.tokenize import word_tokenize"
      ]
    },
    {
      "cell_type": "markdown",
      "metadata": {
        "id": "RtWtTJSx01Or"
      },
      "source": [
        "### Punctuation Removal"
      ]
    },
    {
      "cell_type": "code",
      "execution_count": null,
      "metadata": {
        "id": "-_oGdHPC17_4"
      },
      "outputs": [],
      "source": [
        "def remove_punctuation(text):  \n",
        "  return text.translate(str.maketrans(string.punctuation, ' '*len(string.punctuation)))"
      ]
    },
    {
      "cell_type": "markdown",
      "metadata": {
        "id": "LGslvNuwU9LQ"
      },
      "source": [
        "### Deconstruction\n"
      ]
    },
    {
      "cell_type": "code",
      "execution_count": null,
      "metadata": {
        "id": "-GSn2GfqVAx5"
      },
      "outputs": [],
      "source": [
        "def decontracted(phrase):\n",
        "    phrase = re.sub(r\"won't\", \"will not\", phrase)\n",
        "    phrase = re.sub(r\"can\\'t\", \"can not\", phrase)\n",
        "    phrase = re.sub(r\"n\\'t\", \" not\", phrase)\n",
        "    phrase = re.sub(r\"\\'re\", \" are\", phrase)\n",
        "    phrase = re.sub(r\"\\'s\", \" is\", phrase)\n",
        "    phrase = re.sub(r\"\\'d\", \" would\", phrase)\n",
        "    phrase = re.sub(r\"\\'ll\", \" will\", phrase)\n",
        "    phrase = re.sub(r\"\\'t\", \" not\", phrase)\n",
        "    phrase = re.sub(r\"\\'ve\", \" have\", phrase)\n",
        "    phrase = re.sub(r\"\\'m\", \" am\", phrase)\n",
        "    return phrase"
      ]
    },
    {
      "cell_type": "markdown",
      "metadata": {
        "id": "2kaAdOux4r29"
      },
      "source": [
        "### Clean"
      ]
    },
    {
      "cell_type": "code",
      "execution_count": null,
      "metadata": {
        "id": "-ygBHbne4ExM"
      },
      "outputs": [],
      "source": [
        "clean_question = lambda x: remove_punctuation(decontracted(x.lower()))\n",
        "clean_answer = lambda x: 'START_ '+ remove_punctuation(decontracted(x.lower())) + ' _END' "
      ]
    },
    {
      "cell_type": "markdown",
      "metadata": {
        "id": "euYL88R1oLfg"
      },
      "source": [
        "## Data load and Split"
      ]
    },
    {
      "cell_type": "markdown",
      "metadata": {
        "id": "Y9EOgpF35WCW"
      },
      "source": [
        "### Split"
      ]
    },
    {
      "cell_type": "code",
      "execution_count": null,
      "metadata": {
        "id": "XILLtYrCTOVQ"
      },
      "outputs": [],
      "source": [
        "def data_split(dataset):\n",
        "\n",
        "  global train_set, dev_set, test_set\n",
        "\n",
        "  train, test = train_test_split(dataset, test_size=test_dev_ratio, \n",
        "                                         random_state=0)\n",
        "\n",
        "  test, dev = train_test_split(test, test_size=0.5, \n",
        "                                         random_state=0) \n",
        "  \n",
        "  train_set = pd.concat([train_set, train])\n",
        "  dev_set   = pd.concat([dev_set, dev])\n",
        "  test_set  = pd.concat([test_set, test])"
      ]
    },
    {
      "cell_type": "markdown",
      "metadata": {
        "id": "CDKWe5lf5ZCj"
      },
      "source": [
        "### Load"
      ]
    },
    {
      "cell_type": "code",
      "execution_count": null,
      "metadata": {
        "id": "nlFtb4Swaq4M"
      },
      "outputs": [],
      "source": [
        "def load_split_amazon_dataset():\n",
        "\n",
        "  geners = ['qa_Clothing_Shoes_and_Jewelry.json.gz',\n",
        "            'qa_Health_and_Personal_Care.json.gz',\n",
        "            'qa_Sports_and_Outdoors.json.gz']\n",
        "\n",
        "  for gener in geners:\n",
        "\n",
        "    df = getDF(drive_root_path + gener)\n",
        "\n",
        "    df = df[df['answer'].apply(lambda x: len(x.split()) <= 200)].head(gener_examples)\n",
        "\n",
        "    df['question'] = df['question'].apply(clean_question)\n",
        "    df['answer']   = df['answer'].apply(clean_answer)    \n",
        "    \n",
        "    data_split(df[['question', 'answer']])"
      ]
    },
    {
      "cell_type": "code",
      "execution_count": null,
      "metadata": {
        "id": "dyH5i0NQls38"
      },
      "outputs": [],
      "source": [
        "def load_split_kaggle_dataset():\n",
        "  data = pd.read_csv(drive_root_path + 'chatbot dataset.txt', sep=\"\\t\", \n",
        "                    header=None)\n",
        "\n",
        "  data.columns = [\"question\", \"answer\"]\n",
        "\n",
        "  data['question'] = data['question'].apply(clean_question)\n",
        "  data['answer']   = data['answer'].apply(clean_answer)\n",
        "  \n",
        "  data_split(data)"
      ]
    },
    {
      "cell_type": "markdown",
      "metadata": {
        "id": "bVOcgrlW5btP"
      },
      "source": [
        "### Shuffle"
      ]
    },
    {
      "cell_type": "code",
      "execution_count": null,
      "metadata": {
        "id": "kShJVqxYp8Op"
      },
      "outputs": [],
      "source": [
        "def shuffle_dataset():\n",
        "  global train_set, dev_set, test_set\n",
        "\n",
        "  train_set = train_set.sample(frac=1, random_state=1).reset_index(drop=True)\n",
        "  dev_set   = dev_set.sample(frac=1, random_state=1).reset_index(drop=True)\n",
        "  test_set  = test_set.sample(frac=1, random_state=1).reset_index(drop=True)"
      ]
    },
    {
      "cell_type": "markdown",
      "metadata": {
        "id": "xtCOOqRApjQN"
      },
      "source": [
        "## Generate Data after processing\n"
      ]
    },
    {
      "cell_type": "code",
      "execution_count": null,
      "metadata": {
        "id": "Yct8vnyGo-YJ"
      },
      "outputs": [],
      "source": [
        "load_split_kaggle_dataset()\n",
        "load_split_amazon_dataset()\n",
        "shuffle_dataset()"
      ]
    },
    {
      "cell_type": "code",
      "execution_count": null,
      "metadata": {
        "id": "NnqNs1XSqz-h"
      },
      "outputs": [],
      "source": [
        "x_train, y_train = train_set['question'], train_set['answer']\n",
        "x_dev, y_dev     = dev_set['question'], dev_set['answer']\n",
        "x_test, y_test   = test_set['question'], test_set['answer']"
      ]
    },
    {
      "cell_type": "markdown",
      "metadata": {
        "id": "vm8Cq9zJPZRn"
      },
      "source": [
        "# **Words Vectorization**\n"
      ]
    },
    {
      "cell_type": "markdown",
      "metadata": {
        "id": "BBVuWV_bOD4h"
      },
      "source": [
        "### Imports"
      ]
    },
    {
      "cell_type": "code",
      "execution_count": null,
      "metadata": {
        "id": "LESkMr4lPqjt"
      },
      "outputs": [],
      "source": [
        "import tensorflow as tf\n",
        "from tensorflow.keras.layers import TextVectorization\n",
        "from tensorflow.keras.utils import to_categorical\n",
        "from tensorflow.io import write_file, read_file\n",
        "import gc\n",
        "import pickle\n",
        "import os"
      ]
    },
    {
      "cell_type": "markdown",
      "metadata": {
        "id": "B7GGTGdwOKgq"
      },
      "source": [
        "### Constants"
      ]
    },
    {
      "cell_type": "code",
      "execution_count": null,
      "metadata": {
        "id": "-dYHn0yNOKLO"
      },
      "outputs": [],
      "source": [
        "SAVE_DIR = '/content/drive/My Drive/Colab Notebooks/chatbot project/'\n",
        "VOCAB_SIZE = 38140\n",
        "# VOCAB_SIZE = 45924\n",
        "BATCH_SIZE = 64"
      ]
    },
    {
      "cell_type": "markdown",
      "metadata": {
        "id": "h59vlbinSorS"
      },
      "source": [
        "### Vectorization"
      ]
    },
    {
      "cell_type": "code",
      "execution_count": null,
      "metadata": {
        "id": "5jmk9G4gOUVs"
      },
      "outputs": [],
      "source": [
        "vectorize_layer = tf.keras.layers.TextVectorization(standardize=None)\n",
        "\n",
        "vectorize_layer.adapt(pd.concat([x_train, y_train]))\n",
        "\n",
        "VOCAB_SIZE = vectorize_layer.vocabulary_size()\n",
        "\n",
        "gc.collect()"
      ]
    },
    {
      "cell_type": "markdown",
      "metadata": {
        "id": "-kGdiU40SrXq"
      },
      "source": [
        "#### Training Data"
      ]
    },
    {
      "cell_type": "code",
      "execution_count": null,
      "metadata": {
        "id": "tiLDHXUYOWEz"
      },
      "outputs": [],
      "source": [
        "enc_input_data = vectorize_layer(x_train)\n",
        "dec_input_data = vectorize_layer(y_train)\n",
        "dec_output_data = dec_input_data[:, 1:]\n",
        "dec_output_data = tf.concat([dec_output_data, tf.zeros((dec_output_data.shape[0], 1), dtype=tf.int64)], 1)\n",
        "gc.collect()"
      ]
    },
    {
      "cell_type": "markdown",
      "metadata": {
        "id": "805-HxbTS7Vl"
      },
      "source": [
        "#### Validation Data"
      ]
    },
    {
      "cell_type": "code",
      "execution_count": null,
      "metadata": {
        "id": "2CDAOJHVS-n_"
      },
      "outputs": [],
      "source": [
        "val_enc_input_data = vectorize_layer(x_dev)\n",
        "val_dec_input_data = vectorize_layer(y_dev)\n",
        "val_dec_output_data = val_dec_input_data[:, 1:]\n",
        "val_dec_output_data = tf.concat([val_dec_output_data, tf.zeros((val_dec_output_data.shape[0], 1), dtype=tf.int64)], 1)"
      ]
    },
    {
      "cell_type": "markdown",
      "source": [
        "#### Testing Data"
      ],
      "metadata": {
        "id": "tMR-NYjvFGx0"
      }
    },
    {
      "cell_type": "code",
      "source": [
        "test_enc_input_data = vectorize_layer(x_test)\n",
        "test_dec_input_data = vectorize_layer(y_test)\n",
        "test_dec_output_data = test_dec_input_data[:, 1:]\n",
        "test_dec_output_data = tf.concat([test_dec_output_data, tf.zeros((test_dec_output_data.shape[0], 1), dtype=tf.int64)], 1)"
      ],
      "metadata": {
        "id": "2AyrPgR8FTBv"
      },
      "execution_count": null,
      "outputs": []
    },
    {
      "cell_type": "markdown",
      "metadata": {
        "id": "58pFQT6RwVO1"
      },
      "source": [
        "### Save Processed Data"
      ]
    },
    {
      "cell_type": "code",
      "execution_count": null,
      "metadata": {
        "id": "EVR9MKKMwTXf"
      },
      "outputs": [],
      "source": [
        "def save_as_batches(foldername, np_array, batch_size):\n",
        "  num_batches = np_array.shape[0] // batch_size\n",
        "  dir = SAVE_DIR + foldername + '/'\n",
        "  for i in range(num_batches):\n",
        "    np.save(dir + str(i) + '.npy', np_array[i*batch_size:(i+1)*batch_size, :])\n",
        "  if(num_batches*batch_size < np_array.shape[0]):\n",
        "    np.save(dir + str(num_batches) + '.npy', np_array[num_batches*batch_size:, :])"
      ]
    },
    {
      "cell_type": "code",
      "execution_count": null,
      "metadata": {
        "id": "gsdZvOOcJdf1"
      },
      "outputs": [],
      "source": [
        "def save(foldername, np_array):\n",
        "  path = SAVE_DIR + foldername + '/0.npy'\n",
        "  np.save(path, np_array)"
      ]
    },
    {
      "cell_type": "code",
      "execution_count": null,
      "metadata": {
        "id": "2jzEpvHh0jLd"
      },
      "outputs": [],
      "source": [
        "save_as_batches('dec_output_data_h', dec_output_data, BATCH_SIZE)\n",
        "save_as_batches('dec_input_data_h', dec_input_data, BATCH_SIZE)\n",
        "save_as_batches('enc_input_data_h', enc_input_data, BATCH_SIZE)"
      ]
    },
    {
      "cell_type": "code",
      "execution_count": null,
      "metadata": {
        "id": "r8jvHc_hKGT0"
      },
      "outputs": [],
      "source": [
        "save('val_dec_output_data_h', val_dec_output_data)\n",
        "save('val_dec_input_data_h', val_dec_input_data)\n",
        "save('val_enc_input_data_h', val_enc_input_data)"
      ]
    },
    {
      "cell_type": "code",
      "source": [
        "save('test_enc_input_data', test_enc_input_data)\n",
        "save('test_dec_input_data', test_dec_input_data)\n",
        "save('test_dec_output_data', test_dec_output_data)"
      ],
      "metadata": {
        "id": "M0LQhHzWHAoL"
      },
      "execution_count": null,
      "outputs": []
    },
    {
      "cell_type": "markdown",
      "source": [
        "### Load Processed Data\n"
      ],
      "metadata": {
        "id": "kkZW2lP8SXy2"
      }
    },
    {
      "cell_type": "code",
      "execution_count": null,
      "metadata": {
        "id": "YSO5aOBQAlnu"
      },
      "outputs": [],
      "source": [
        "class DataGenerator(tf.keras.utils.Sequence):\n",
        "    def __init__(self, input_folder1, input_folder2, output_folder, batch_size=64):\n",
        "        self.input_folder1 = input_folder1\n",
        "        self.input_folder2 = input_folder2\n",
        "        self.output_folder = output_folder\n",
        "        self.batch_size = batch_size\n",
        "\n",
        "    def __len__(self):\n",
        "        # assuming there is nothing in the folders other than the preprocessed data, and all folders have the same number of files\n",
        "        return len(os.listdir(SAVE_DIR + self.output_folder))\n",
        "\n",
        "    def __getitem__(self, index):\n",
        "        enc_input = np.load(SAVE_DIR + self.input_folder1 + '/' + str(index) + '.npy')\n",
        "        dec_input = np.load(SAVE_DIR + self.input_folder2 + '/' + str(index) + '.npy')\n",
        "        dec_output = np.load(SAVE_DIR + self.output_folder + '/' + str(index) + '.npy')\n",
        "        return [enc_input, dec_input], dec_output"
      ]
    },
    {
      "cell_type": "code",
      "execution_count": null,
      "metadata": {
        "id": "x7jjrFLcKZQ2"
      },
      "outputs": [],
      "source": [
        "def load(foldername):\n",
        "  path = SAVE_DIR + foldername + '/0.npy'\n",
        "  return np.load(path)"
      ]
    },
    {
      "cell_type": "code",
      "execution_count": null,
      "metadata": {
        "id": "AWZNxAGgKQZC"
      },
      "outputs": [],
      "source": [
        "val_dec_output_data = load('val_dec_output_data')\n",
        "val_dec_input_data = load('val_dec_input_data')\n",
        "val_enc_input_data = load('val_enc_input_data')"
      ]
    },
    {
      "cell_type": "code",
      "source": [
        "test_dec_output_data = load('test_dec_output_data')\n",
        "test_dec_input_data = load('test_dec_input_data')\n",
        "test_enc_input_data = load('test_enc_input_data')"
      ],
      "metadata": {
        "id": "JaE0k8wuRUuL"
      },
      "execution_count": null,
      "outputs": []
    },
    {
      "cell_type": "markdown",
      "metadata": {
        "id": "ayWHKOX3Q59Z"
      },
      "source": [
        "# **Training Model**"
      ]
    },
    {
      "cell_type": "markdown",
      "metadata": {
        "id": "2h4eYvwRRBBV"
      },
      "source": [
        "### Imports"
      ]
    },
    {
      "cell_type": "code",
      "execution_count": null,
      "metadata": {
        "id": "RU8eJL0GQi4g"
      },
      "outputs": [],
      "source": [
        "import tensorflow as tf\n",
        "from tensorflow.keras import Sequential\n",
        "from tensorflow.keras.layers import Input, Dense, Embedding, Dropout\n",
        "from tensorflow.keras.layers import GRU, LSTM, Bidirectional, Concatenate\n",
        "from tensorflow.keras import Model\n",
        "from tensorflow.keras.models import load_model\n",
        "from tensorflow.keras.optimizers import RMSprop, Adam\n",
        "from tensorflow.keras.losses import CategoricalCrossentropy, SparseCategoricalCrossentropy\n",
        "from tensorflow.keras.callbacks import ModelCheckpoint\n",
        "from tensorflow.keras.optimizers.schedules import ExponentialDecay\n",
        "\n",
        "from nltk.translate.bleu_score import sentence_bleu"
      ]
    },
    {
      "cell_type": "markdown",
      "metadata": {
        "id": "vcgZXpudQ5IH"
      },
      "source": [
        "### Custom Evaluation Functions"
      ]
    },
    {
      "cell_type": "code",
      "source": [
        "def bleu_score(y_true, y_pred):\n",
        "  return sentence_bleu([y_true.numpy().tolist()], y_pred.numpy().tolist(), smoothing_function=SmoothingFunction().method1)"
      ],
      "metadata": {
        "id": "wW7yPN3_Q4pY"
      },
      "execution_count": null,
      "outputs": []
    },
    {
      "cell_type": "markdown",
      "metadata": {
        "id": "1MNuBvihdPBl"
      },
      "source": [
        "### Constants"
      ]
    },
    {
      "cell_type": "code",
      "execution_count": null,
      "metadata": {
        "id": "X3RM2U8mRDid"
      },
      "outputs": [],
      "source": [
        "EMBEDDING_SIZE = 50\n",
        "UNITS = 100"
      ]
    },
    {
      "cell_type": "markdown",
      "source": [
        "## Embedding Layer"
      ],
      "metadata": {
        "id": "NsEgfBXI9o7z"
      }
    },
    {
      "cell_type": "markdown",
      "metadata": {
        "id": "O3zIRa-I1j_x"
      },
      "source": [
        "### Downloading Glove Embedding"
      ]
    },
    {
      "cell_type": "code",
      "execution_count": null,
      "metadata": {
        "id": "dae-c-QRVXhX",
        "colab": {
          "base_uri": "https://localhost:8080/"
        },
        "outputId": "f43923c1-d007-44f4-c4f8-0ad8899c3129"
      },
      "outputs": [
        {
          "output_type": "stream",
          "name": "stdout",
          "text": [
            "--2022-09-10 12:25:11--  http://nlp.stanford.edu/data/glove.42B.300d.zip\n",
            "Resolving nlp.stanford.edu (nlp.stanford.edu)... 171.64.67.140\n",
            "Connecting to nlp.stanford.edu (nlp.stanford.edu)|171.64.67.140|:80... connected.\n",
            "HTTP request sent, awaiting response... 302 Found\n",
            "Location: https://nlp.stanford.edu/data/glove.42B.300d.zip [following]\n",
            "--2022-09-10 12:25:11--  https://nlp.stanford.edu/data/glove.42B.300d.zip\n",
            "Connecting to nlp.stanford.edu (nlp.stanford.edu)|171.64.67.140|:443... connected.\n",
            "HTTP request sent, awaiting response... 301 Moved Permanently\n",
            "Location: https://downloads.cs.stanford.edu/nlp/data/glove.42B.300d.zip [following]\n",
            "--2022-09-10 12:25:11--  https://downloads.cs.stanford.edu/nlp/data/glove.42B.300d.zip\n",
            "Resolving downloads.cs.stanford.edu (downloads.cs.stanford.edu)... 171.64.64.22\n",
            "Connecting to downloads.cs.stanford.edu (downloads.cs.stanford.edu)|171.64.64.22|:443... connected.\n",
            "HTTP request sent, awaiting response... 200 OK\n",
            "Length: 1877800501 (1.7G) [application/zip]\n",
            "Saving to: ‘glove.42B.300d.zip’\n",
            "\n",
            "glove.42B.300d.zip  100%[===================>]   1.75G  5.12MB/s    in 5m 54s  \n",
            "\n",
            "2022-09-10 12:31:05 (5.05 MB/s) - ‘glove.42B.300d.zip’ saved [1877800501/1877800501]\n",
            "\n",
            "Reading package lists... Done\n",
            "Building dependency tree       \n",
            "Reading state information... Done\n",
            "unzip is already the newest version (6.0-21ubuntu1.1).\n",
            "The following package was automatically installed and is no longer required:\n",
            "  libnvidia-common-460\n",
            "Use 'apt autoremove' to remove it.\n",
            "0 upgraded, 0 newly installed, 0 to remove and 20 not upgraded.\n",
            "Archive:  glove.42B.300d.zip\n",
            "  inflating: glove.42B.300d.txt      \n"
          ]
        }
      ],
      "source": [
        "!wget http://nlp.stanford.edu/data/glove.42B.300d.zip\n",
        "!apt install unzip\n",
        "!unzip \"glove.42B.300d.zip\""
      ]
    },
    {
      "cell_type": "code",
      "execution_count": null,
      "metadata": {
        "colab": {
          "base_uri": "https://localhost:8080/"
        },
        "id": "PpUP-_uyIZDL",
        "outputId": "d2d15753-6f89-44b1-c2a6-76a7f3968bd8"
      },
      "outputs": [
        {
          "output_type": "execute_result",
          "data": {
            "text/plain": [
              "['.config', 'glove.42B.300d.txt', 'drive', 'glove.42B.300d.zip', 'sample_data']"
            ]
          },
          "metadata": {},
          "execution_count": 31
        }
      ],
      "source": [
        "import os\n",
        "os.listdir()"
      ]
    },
    {
      "cell_type": "markdown",
      "metadata": {
        "id": "Dl0iKOj71pjn"
      },
      "source": [
        "### Convert Glove Embedding to Word2Vec Embedding"
      ]
    },
    {
      "cell_type": "code",
      "execution_count": null,
      "metadata": {
        "id": "XNvMFEolJuSi"
      },
      "outputs": [],
      "source": [
        "from gensim.scripts.glove2word2vec import glove2word2vec\n",
        "glove2word2vec(glove_input_file=\"glove.42B.300d.txt\", word2vec_output_file=\"gensim_glove_vectors.txt\")\n",
        "\n",
        "from gensim.models.keyedvectors import KeyedVectors\n",
        "glove_model = KeyedVectors.load_word2vec_format(\"gensim_glove_vectors.txt\", binary=False)"
      ]
    },
    {
      "cell_type": "markdown",
      "source": [
        "### GloVe Layer"
      ],
      "metadata": {
        "id": "xqBmSdvt-OW7"
      }
    },
    {
      "cell_type": "code",
      "source": [
        "enc_embedding_layer = glove_model.get_keras_embedding()\n",
        "dec_embedding_layer = glove_model.get_keras_embedding()"
      ],
      "metadata": {
        "id": "f_PwFmTu-zwN"
      },
      "execution_count": null,
      "outputs": []
    },
    {
      "cell_type": "markdown",
      "source": [
        "### Normal Embedding Layer"
      ],
      "metadata": {
        "id": "NM86pnIh_Fgj"
      }
    },
    {
      "cell_type": "code",
      "source": [
        "enc_embedding_layer = Embedding(VOCAB_SIZE, EMBEDDING_SIZE, mask_zero=True)\n",
        "dec_embedding_layer = Embedding(VOCAB_SIZE, EMBEDDING_SIZE, mask_zero=True)"
      ],
      "metadata": {
        "id": "9TdwfiKK-FJ5"
      },
      "execution_count": null,
      "outputs": []
    },
    {
      "cell_type": "markdown",
      "source": [
        "\n",
        "## GRU Model"
      ],
      "metadata": {
        "id": "eMTFlSAUSlLU"
      }
    },
    {
      "cell_type": "markdown",
      "metadata": {
        "id": "3tt0UQKmRGhO"
      },
      "source": [
        "### Encoder"
      ]
    },
    {
      "cell_type": "code",
      "execution_count": null,
      "metadata": {
        "id": "OtGe2KyBRFgA"
      },
      "outputs": [],
      "source": [
        "enc_input = Input(shape=(None,))\n",
        "enc_embedding = enc_embedding_layer(enc_input)\n",
        "enc_output, enc_state = GRU(UNITS, return_state=True, \n",
        "                            kernel_regularizer='l2')(enc_embedding)"
      ]
    },
    {
      "cell_type": "markdown",
      "metadata": {
        "id": "l627ljM7RP1d"
      },
      "source": [
        "###  Decoder"
      ]
    },
    {
      "cell_type": "code",
      "execution_count": null,
      "metadata": {
        "id": "MPksLUNXRNyd"
      },
      "outputs": [],
      "source": [
        "dec_input = Input(shape=(None,))\n",
        "dec_embedding = dec_embedding_layer(dec_input)\n",
        "dec_outputs, _ = GRU(UNITS, return_state=True, return_sequences=True, \n",
        "                     kernel_regularizer='l2')(dec_embedding, initial_state=enc_state)\n",
        "dropout = Dropout(0.3)(dec_outputs)\n",
        "output = Dense(VOCAB_SIZE, activation='softmax')(dropout)"
      ]
    },
    {
      "cell_type": "markdown",
      "source": [
        "## Bidirectional Model\n",
        "\n"
      ],
      "metadata": {
        "id": "riTMuk7ISu-p"
      }
    },
    {
      "cell_type": "markdown",
      "metadata": {
        "id": "-qPsmIzsS5I1"
      },
      "source": [
        "### Encoder"
      ]
    },
    {
      "cell_type": "code",
      "execution_count": null,
      "metadata": {
        "id": "PFmVzNmIS5I3"
      },
      "outputs": [],
      "source": [
        "enc_input = Input(shape=(None,))\n",
        "enc_embedding = enc_embedding_layer(enc_input)\n",
        "\n",
        "encoder = Bidirectional(LSTM(UNITS, return_state=True))\n",
        "\n",
        "encoder_outputs, forward_h, forward_c, backward_h, backward_c = encoder(enc_embedding)\n",
        "\n",
        "state_h = Concatenate()([forward_h, backward_h])\n",
        "state_c = Concatenate()([forward_c, backward_c])\n",
        "\n",
        "enc_state = [state_h, state_c]"
      ]
    },
    {
      "cell_type": "markdown",
      "metadata": {
        "id": "VL0UzMFHS5I6"
      },
      "source": [
        "###  Decoder"
      ]
    },
    {
      "cell_type": "code",
      "execution_count": null,
      "metadata": {
        "id": "JQQ6vO5WS5I7"
      },
      "outputs": [],
      "source": [
        "dec_input = Input(shape=(None,))\n",
        "dec_embedding = dec_embedding_layer(dec_input)\n",
        "dec_outputs, _, _ = LSTM(UNITS*2, return_state=True, \n",
        "                         return_sequences=True)(dec_embedding, initial_state=enc_state)\n",
        "dropout = Dropout(0.3)(dec_outputs)\n",
        "output = Dense(VOCAB_SIZE, activation='softmax')(dropout)"
      ]
    },
    {
      "cell_type": "markdown",
      "metadata": {
        "id": "8G7bpG85CLoN"
      },
      "source": [
        "##LSTM Model"
      ]
    },
    {
      "cell_type": "markdown",
      "metadata": {
        "id": "V3qTT4wkCSJ2"
      },
      "source": [
        "### Encoder"
      ]
    },
    {
      "cell_type": "code",
      "execution_count": null,
      "metadata": {
        "id": "LTtLNhebCSJ3"
      },
      "outputs": [],
      "source": [
        "enc_input = Input(shape=(None,))\n",
        "\n",
        "enc_embedding = enc_embedding_layer(enc_input)\n",
        "\n",
        "enc_outputs, state_h, state_c = LSTM(UNITS, return_state=True)(enc_embedding)\n",
        "enc_states = [state_h, state_c]"
      ]
    },
    {
      "cell_type": "markdown",
      "metadata": {
        "id": "FCg5BCAACSJ4"
      },
      "source": [
        "###  Decoder"
      ]
    },
    {
      "cell_type": "code",
      "execution_count": null,
      "metadata": {
        "id": "A2SorjqOCSJ5"
      },
      "outputs": [],
      "source": [
        "dec_input = Input(shape=(None,))\n",
        "\n",
        "dec_embedding = dec_embedding_layer(dec_input)\n",
        "dec_outputs, _, _  = LSTM(UNITS, return_state=True, \n",
        "                          return_sequences=True)(dec_embedding, initial_state=enc_states)\n",
        "output = Dense(VOCAB_SIZE, activation='softmax')(dec_outputs)"
      ]
    },
    {
      "cell_type": "markdown",
      "metadata": {
        "id": "8WMNvNpiRUiq"
      },
      "source": [
        "## Training Model"
      ]
    },
    {
      "cell_type": "code",
      "execution_count": null,
      "metadata": {
        "colab": {
          "base_uri": "https://localhost:8080/"
        },
        "id": "fcx6Oy_gRUGk",
        "outputId": "25ee0ec8-aa36-4fa6-ccef-594ca1443fa7"
      },
      "outputs": [
        {
          "output_type": "stream",
          "name": "stdout",
          "text": [
            "Model: \"model_79\"\n",
            "__________________________________________________________________________________________________\n",
            " Layer (type)                   Output Shape         Param #     Connected to                     \n",
            "==================================================================================================\n",
            " input_1 (InputLayer)           [(None, None)]       0           []                               \n",
            "                                                                                                  \n",
            " input_2 (InputLayer)           [(None, None)]       0           []                               \n",
            "                                                                                                  \n",
            " embedding (Embedding)          (None, None, 300)    575248200   ['input_1[0][0]']                \n",
            "                                                                                                  \n",
            " embedding_1 (Embedding)        (None, None, 300)    575248200   ['input_2[0][0]']                \n",
            "                                                                                                  \n",
            " lstm (LSTM)                    [(None, 50),         70200       ['embedding[0][0]']              \n",
            "                                 (None, 50),                                                      \n",
            "                                 (None, 50)]                                                      \n",
            "                                                                                                  \n",
            " lstm_1 (LSTM)                  [(None, None, 50),   70200       ['embedding_1[0][0]',            \n",
            "                                 (None, 50),                      'lstm[0][1]',                   \n",
            "                                 (None, 50)]                      'lstm[0][2]']                   \n",
            "                                                                                                  \n",
            " dense (Dense)                  (None, None, 38140)  1945140     ['lstm_1[0][0]']                 \n",
            "                                                                                                  \n",
            "==================================================================================================\n",
            "Total params: 1,152,581,940\n",
            "Trainable params: 2,085,540\n",
            "Non-trainable params: 1,150,496,400\n",
            "__________________________________________________________________________________________________\n"
          ]
        }
      ],
      "source": [
        "model = Model([enc_input, dec_input], output, name='model_79')\n",
        "lr_schedule = ExponentialDecay(\n",
        "    0.01,\n",
        "    decay_steps=10000,\n",
        "    decay_rate=0.9)\n",
        "opt = Adam(learning_rate=lr_schedule)\n",
        "model.compile(optimizer=opt, loss=SparseCategoricalCrossentropy(), metrics=['accuracy'])\n",
        "model.summary()"
      ]
    },
    {
      "cell_type": "code",
      "execution_count": null,
      "metadata": {
        "id": "VBulUBn2SpgU",
        "colab": {
          "base_uri": "https://localhost:8080/"
        },
        "outputId": "3217bbc1-fcae-4f1f-e045-2a78b4b333e1"
      },
      "outputs": [
        {
          "output_type": "stream",
          "name": "stdout",
          "text": [
            "Model: \"model\"\n",
            "__________________________________________________________________________________________________\n",
            " Layer (type)                   Output Shape         Param #     Connected to                     \n",
            "==================================================================================================\n",
            " input_1 (InputLayer)           [(None, None)]       0           []                               \n",
            "                                                                                                  \n",
            " input_2 (InputLayer)           [(None, None)]       0           []                               \n",
            "                                                                                                  \n",
            " embedding (Embedding)          (None, None, 200)    7628000     ['input_1[0][0]']                \n",
            "                                                                                                  \n",
            " embedding_1 (Embedding)        (None, None, 200)    7628000     ['input_2[0][0]']                \n",
            "                                                                                                  \n",
            " lstm (LSTM)                    [(None, 200),        320800      ['embedding[0][0]']              \n",
            "                                 (None, 200),                                                     \n",
            "                                 (None, 200)]                                                     \n",
            "                                                                                                  \n",
            " lstm_1 (LSTM)                  [(None, None, 200),  320800      ['embedding_1[0][0]',            \n",
            "                                 (None, 200),                     'lstm[0][1]',                   \n",
            "                                 (None, 200)]                     'lstm[0][2]']                   \n",
            "                                                                                                  \n",
            " dense (Dense)                  (None, None, 38140)  7666140     ['lstm_1[0][0]']                 \n",
            "                                                                                                  \n",
            "==================================================================================================\n",
            "Total params: 23,563,740\n",
            "Trainable params: 23,563,740\n",
            "Non-trainable params: 0\n",
            "__________________________________________________________________________________________________\n"
          ]
        }
      ],
      "source": [
        "path = SAVE_DIR + 'checkpoints/model_2'\n",
        "model = load_model(path)\n",
        "model.summary()"
      ]
    },
    {
      "cell_type": "code",
      "execution_count": null,
      "metadata": {
        "id": "P21wmZQVRYfv"
      },
      "outputs": [],
      "source": [
        "data_generator = DataGenerator('enc_input_data', 'dec_input_data', \n",
        "                               'dec_output_data')\n",
        "save_callback = ModelCheckpoint(SAVE_DIR + 'checkpoints/model_79')\n",
        "history = model.fit(x=data_generator, epochs=30, validation_data=([val_enc_input_data, val_dec_input_data], val_dec_output_data), callbacks=[save_callback])"
      ]
    },
    {
      "cell_type": "code",
      "execution_count": null,
      "metadata": {
        "id": "Ooq6ZTetRpLs"
      },
      "outputs": [],
      "source": [
        "history"
      ]
    },
    {
      "cell_type": "markdown",
      "source": [
        "# **Testing Model**"
      ],
      "metadata": {
        "id": "OHRQR1ETL_Ev"
      }
    },
    {
      "cell_type": "code",
      "source": [
        "model.evaluate([val_enc_input_data, val_dec_input_data], val_dec_output_data, batch_size=BATCH_SIZE)"
      ],
      "metadata": {
        "colab": {
          "base_uri": "https://localhost:8080/"
        },
        "id": "HOS0Tc4WMiiv",
        "outputId": "c0388a22-fbb0-4405-fd02-1acb77a92b8c"
      },
      "execution_count": null,
      "outputs": [
        {
          "output_type": "stream",
          "name": "stdout",
          "text": [
            "48/48 [==============================] - 11s 218ms/step - loss: 0.7590 - accuracy: 0.8779\n"
          ]
        },
        {
          "output_type": "execute_result",
          "data": {
            "text/plain": [
              "[0.7589655518531799, 0.8779336810112]"
            ]
          },
          "metadata": {},
          "execution_count": 38
        }
      ]
    },
    {
      "cell_type": "code",
      "source": [
        "model.evaluate([test_enc_input_data, test_dec_input_data], test_dec_output_data, batch_size=BATCH_SIZE)"
      ],
      "metadata": {
        "colab": {
          "base_uri": "https://localhost:8080/"
        },
        "id": "36lRC1wYL-0g",
        "outputId": "83b141c3-a29a-4bba-c162-75c57b01412e"
      },
      "execution_count": null,
      "outputs": [
        {
          "output_type": "stream",
          "name": "stdout",
          "text": [
            "48/48 [==============================] - 11s 216ms/step - loss: 0.7790 - accuracy: 0.8746\n"
          ]
        },
        {
          "output_type": "execute_result",
          "data": {
            "text/plain": [
              "[0.7789523005485535, 0.874611496925354]"
            ]
          },
          "metadata": {},
          "execution_count": 39
        }
      ]
    },
    {
      "cell_type": "markdown",
      "source": [
        "# **Inference Model**"
      ],
      "metadata": {
        "id": "bnJ_4Qd9CkIJ"
      }
    },
    {
      "cell_type": "markdown",
      "source": [
        "## Load Vectorized Layer\n"
      ],
      "metadata": {
        "id": "qI2B94c7CG18"
      }
    },
    {
      "cell_type": "code",
      "source": [
        "def load_vectorizer():\n",
        "  path = SAVE_DIR +'vectorizer.pkl'\n",
        "  from_disk = pickle.load(open(path, \"rb\"))\n",
        "  vectorizer = TextVectorization.from_config(from_disk['config'])\n",
        "  vectorizer.set_weights(from_disk['weights'])\n",
        "  return vectorizer"
      ],
      "metadata": {
        "id": "Rkug6E6KhcDx"
      },
      "execution_count": null,
      "outputs": []
    },
    {
      "cell_type": "code",
      "source": [
        "vectorizer = load_vectorizer()"
      ],
      "metadata": {
        "id": "JsygW6iku79-"
      },
      "execution_count": null,
      "outputs": []
    },
    {
      "cell_type": "markdown",
      "source": [
        "## LSTM/GRU Layers"
      ],
      "metadata": {
        "id": "70TZ-vQsEGW9"
      }
    },
    {
      "cell_type": "code",
      "source": [
        "enc_input = model.input[0]\n",
        "dec_input = model.input[1]\n",
        "enc_embedding_layer = model.get_layer(index=2)\n",
        "dec_embedding_layer = model.get_layer(index=3)\n",
        "enc_layer = model.get_layer(index=4)\n",
        "dec_layer = model.get_layer(index=5)\n",
        "dec_dense_layer = model.get_layer(index=-1)"
      ],
      "metadata": {
        "id": "rg2ns4rrbKE-"
      },
      "execution_count": null,
      "outputs": []
    },
    {
      "cell_type": "code",
      "source": [
        "EMBEDDING_SIZE = dec_embedding_layer.output.shape[-1]\n",
        "UNITS = dec_layer.output[0].shape[-1]"
      ],
      "metadata": {
        "id": "SAc2_Fq_60OK"
      },
      "execution_count": null,
      "outputs": []
    },
    {
      "cell_type": "markdown",
      "source": [
        "### LSTM "
      ],
      "metadata": {
        "id": "zPM_qd2VHma0"
      }
    },
    {
      "cell_type": "markdown",
      "source": [
        "#### Encoder"
      ],
      "metadata": {
        "id": "IwwgQgFDlpCq"
      }
    },
    {
      "cell_type": "code",
      "source": [
        "_ , enc_state_h, enc_state_c = enc_layer.output\n",
        "enc_model = Model(enc_input, [enc_state_h, enc_state_c], \n",
        "                  name='encoder_inference_model')\n",
        "enc_model.summary()"
      ],
      "metadata": {
        "id": "53Wx8h0uCoEF",
        "colab": {
          "base_uri": "https://localhost:8080/"
        },
        "outputId": "e0ca3383-18b4-4276-fb12-f16ba1d4f3b1"
      },
      "execution_count": null,
      "outputs": [
        {
          "output_type": "stream",
          "name": "stdout",
          "text": [
            "Model: \"encoder_inference_model\"\n",
            "_________________________________________________________________\n",
            " Layer (type)                Output Shape              Param #   \n",
            "=================================================================\n",
            " input_1 (InputLayer)        [(None, None)]            0         \n",
            "                                                                 \n",
            " embedding (Embedding)       (None, None, 200)         7628000   \n",
            "                                                                 \n",
            " lstm (LSTM)                 [(None, 200),             320800    \n",
            "                              (None, 200),                       \n",
            "                              (None, 200)]                       \n",
            "                                                                 \n",
            "=================================================================\n",
            "Total params: 7,948,800\n",
            "Trainable params: 7,948,800\n",
            "Non-trainable params: 0\n",
            "_________________________________________________________________\n"
          ]
        }
      ]
    },
    {
      "cell_type": "markdown",
      "source": [
        "#### Decoder"
      ],
      "metadata": {
        "id": "wfgzYRc0lrTG"
      }
    },
    {
      "cell_type": "code",
      "source": [
        "dec_embedding = dec_embedding_layer.output \n",
        "dec_state_input_h = Input(shape=(UNITS,), name='decoder_input_state_h')\n",
        "dec_state_input_c = Input(shape=(UNITS,), name='decoder_input_state_c')\n",
        "dec_outputs, dec_state_output_h, dec_state_output_c = dec_layer(dec_embedding, \n",
        "                                                                     initial_state=[dec_state_input_h, dec_state_input_c])\n",
        "output = dec_dense_layer(dec_outputs)\n",
        "dec_model = Model([dec_input, dec_state_input_h, dec_state_input_c], \n",
        "                  [output, dec_state_output_h, dec_state_output_c], \n",
        "                  name='decoder_inference_model')\n",
        "dec_model.summary()"
      ],
      "metadata": {
        "id": "nhdro6_WlsPh",
        "colab": {
          "base_uri": "https://localhost:8080/"
        },
        "outputId": "f6a7ccf3-4757-4c7b-8363-2dc945bfd73b"
      },
      "execution_count": null,
      "outputs": [
        {
          "output_type": "stream",
          "name": "stdout",
          "text": [
            "Model: \"decoder_inference_model\"\n",
            "__________________________________________________________________________________________________\n",
            " Layer (type)                   Output Shape         Param #     Connected to                     \n",
            "==================================================================================================\n",
            " input_2 (InputLayer)           [(None, None)]       0           []                               \n",
            "                                                                                                  \n",
            " embedding_1 (Embedding)        (None, None, 200)    7628000     ['input_2[0][0]']                \n",
            "                                                                                                  \n",
            " decoder_input_state_h (InputLa  [(None, 200)]       0           []                               \n",
            " yer)                                                                                             \n",
            "                                                                                                  \n",
            " decoder_input_state_c (InputLa  [(None, 200)]       0           []                               \n",
            " yer)                                                                                             \n",
            "                                                                                                  \n",
            " lstm_1 (LSTM)                  [(None, None, 200),  320800      ['embedding_1[0][0]',            \n",
            "                                 (None, 200),                     'decoder_input_state_h[0][0]',  \n",
            "                                 (None, 200)]                     'decoder_input_state_c[0][0]']  \n",
            "                                                                                                  \n",
            " dense (Dense)                  (None, None, 38140)  7666140     ['lstm_1[1][0]']                 \n",
            "                                                                                                  \n",
            "==================================================================================================\n",
            "Total params: 15,614,940\n",
            "Trainable params: 15,614,940\n",
            "Non-trainable params: 0\n",
            "__________________________________________________________________________________________________\n"
          ]
        }
      ]
    },
    {
      "cell_type": "markdown",
      "source": [
        "### GRU"
      ],
      "metadata": {
        "id": "50SR8bV9HsV_"
      }
    },
    {
      "cell_type": "markdown",
      "source": [
        "#### Encoder"
      ],
      "metadata": {
        "id": "CsfAPD1xGHuc"
      }
    },
    {
      "cell_type": "code",
      "source": [
        "_ , enc_state = enc_layer.output\n",
        "enc_model = Model(enc_input, enc_state, name='encoder_inference_model')\n",
        "enc_model.summary()"
      ],
      "metadata": {
        "id": "Gp5j8ZT4GHuc"
      },
      "execution_count": null,
      "outputs": []
    },
    {
      "cell_type": "markdown",
      "source": [
        "#### Decoder"
      ],
      "metadata": {
        "id": "L2IpOmwwGHuc"
      }
    },
    {
      "cell_type": "code",
      "source": [
        "dec_embedding = dec_embedding_layer.output\n",
        "dec_state_input = Input(shape=(UNITS,), name='decoder_input_states')\n",
        "dec_outputs, dec_state_output = dec_layer(dec_embedding, \n",
        "                                          initial_state=dec_state_input)\n",
        "output = dec_dense_layer(dec_outputs)\n",
        "dec_model = Model([dec_input, dec_state_input], [output, dec_state_output], name='decoder_inference_model')\n",
        "dec_model.summary()"
      ],
      "metadata": {
        "id": "3BnZZJs_GHuc"
      },
      "execution_count": null,
      "outputs": []
    },
    {
      "cell_type": "markdown",
      "source": [
        "## Bidirectional Layers"
      ],
      "metadata": {
        "id": "PRhr1lHEOREQ"
      }
    },
    {
      "cell_type": "code",
      "source": [
        "enc_input = model.input[0]\n",
        "dec_input = model.input[1]\n",
        "enc_embedding_layer = model.get_layer(index=1)\n",
        "enc_bidirectional_layer = model.get_layer(index=3)\n",
        "dec_embedding_layer = model.get_layer(index=4)\n",
        "concatenate_layer_1 = model.get_layer(index=5)\n",
        "concatenate_layer_2 = model.get_layer(index=6)\n",
        "dec_lstm_layer = model.get_layer(index=7)\n",
        "dec_dense_layer = model.get_layer(index=-1)"
      ],
      "metadata": {
        "id": "AlNz-cxEORD2"
      },
      "execution_count": null,
      "outputs": []
    },
    {
      "cell_type": "code",
      "source": [
        "EMBEDDING_SIZE = dec_embedding_layer.output.shape[-1]\n",
        "UNITS = dec_lstm_layer.output[0].shape[-1]"
      ],
      "metadata": {
        "id": "ALhBxkfP2pf-"
      },
      "execution_count": null,
      "outputs": []
    },
    {
      "cell_type": "markdown",
      "source": [
        "### Encoder"
      ],
      "metadata": {
        "id": "jDrH8xEMOjUW"
      }
    },
    {
      "cell_type": "code",
      "source": [
        "enc_state_h = concatenate_layer_1.output\n",
        "enc_state_c = concatenate_layer_2.output\n",
        "enc_model = Model(enc_input, [enc_state_h, enc_state_c], name='encoder_inference_model')\n",
        "enc_model.summary()"
      ],
      "metadata": {
        "colab": {
          "base_uri": "https://localhost:8080/"
        },
        "outputId": "7fdd92f6-118e-4598-9b97-e6775f0064c7",
        "id": "1dVWuZyyOREQ"
      },
      "execution_count": null,
      "outputs": [
        {
          "output_type": "stream",
          "name": "stdout",
          "text": [
            "Model: \"encoder_inference_model\"\n",
            "__________________________________________________________________________________________________\n",
            " Layer (type)                   Output Shape         Param #     Connected to                     \n",
            "==================================================================================================\n",
            " input_2 (InputLayer)           [(None, None)]       0           []                               \n",
            "                                                                                                  \n",
            " embedding_1 (Embedding)        (None, None, 50)     1907000     ['input_2[0][0]']                \n",
            "                                                                                                  \n",
            " bidirectional (Bidirectional)  [(None, 300),        241200      ['embedding_1[0][0]']            \n",
            "                                 (None, 150),                                                     \n",
            "                                 (None, 150),                                                     \n",
            "                                 (None, 150),                                                     \n",
            "                                 (None, 150)]                                                     \n",
            "                                                                                                  \n",
            " concatenate (Concatenate)      (None, 300)          0           ['bidirectional[0][1]',          \n",
            "                                                                  'bidirectional[0][3]']          \n",
            "                                                                                                  \n",
            " concatenate_1 (Concatenate)    (None, 300)          0           ['bidirectional[0][2]',          \n",
            "                                                                  'bidirectional[0][4]']          \n",
            "                                                                                                  \n",
            "==================================================================================================\n",
            "Total params: 2,148,200\n",
            "Trainable params: 2,148,200\n",
            "Non-trainable params: 0\n",
            "__________________________________________________________________________________________________\n"
          ]
        }
      ]
    },
    {
      "cell_type": "markdown",
      "source": [
        "### Decoder"
      ],
      "metadata": {
        "id": "dY5vkoorORER"
      }
    },
    {
      "cell_type": "code",
      "source": [
        "dec_embedding = dec_embedding_layer.output\n",
        "dec_state_input_h = Input(shape=(UNITS,), name='decoder_input_state_h')\n",
        "dec_state_input_c = Input(shape=(UNITS,), name='decoder_input_state_c')\n",
        "dec_outputs, dec_state_output_h, dec_state_output_c = dec_lstm_layer(dec_embedding, \n",
        "                                                                     initial_state=[dec_state_input_h, dec_state_input_c])\n",
        "output = dec_dense_layer(dec_outputs)\n",
        "dec_model = Model([dec_input, dec_state_input_h, dec_state_input_c], \n",
        "                  [output, dec_state_output_h, dec_state_output_c], \n",
        "                  name='decoder_inference_model')\n",
        "dec_model.summary()"
      ],
      "metadata": {
        "colab": {
          "base_uri": "https://localhost:8080/"
        },
        "outputId": "167d82b6-c040-4bd2-e7a7-094a13fc6aaf",
        "id": "85o0XlCNORES"
      },
      "execution_count": null,
      "outputs": [
        {
          "output_type": "stream",
          "name": "stdout",
          "text": [
            "Model: \"decoder_inference_model\"\n",
            "__________________________________________________________________________________________________\n",
            " Layer (type)                   Output Shape         Param #     Connected to                     \n",
            "==================================================================================================\n",
            " input_4 (InputLayer)           [(None, None)]       0           []                               \n",
            "                                                                                                  \n",
            " embedding_3 (Embedding)        (None, None, 50)     1907000     ['input_4[0][0]']                \n",
            "                                                                                                  \n",
            " decoder_input_state_h (InputLa  [(None, 300)]       0           []                               \n",
            " yer)                                                                                             \n",
            "                                                                                                  \n",
            " decoder_input_state_c (InputLa  [(None, 300)]       0           []                               \n",
            " yer)                                                                                             \n",
            "                                                                                                  \n",
            " lstm_2 (LSTM)                  [(None, None, 300),  421200      ['embedding_3[0][0]',            \n",
            "                                 (None, 300),                     'decoder_input_state_h[0][0]',  \n",
            "                                 (None, 300)]                     'decoder_input_state_c[0][0]']  \n",
            "                                                                                                  \n",
            " dense (Dense)                  (None, None, 38140)  11480140    ['lstm_2[1][0]']                 \n",
            "                                                                                                  \n",
            "==================================================================================================\n",
            "Total params: 13,808,340\n",
            "Trainable params: 13,808,340\n",
            "Non-trainable params: 0\n",
            "__________________________________________________________________________________________________\n"
          ]
        }
      ]
    },
    {
      "cell_type": "markdown",
      "source": [
        "## Main Loop"
      ],
      "metadata": {
        "id": "IRwo7u78Vyiy"
      }
    },
    {
      "cell_type": "code",
      "source": [
        "START_TOKEN = 'START_'\n",
        "END_TOKEN = '_END'\n",
        "MAX_ANSWER_LEN = 200"
      ],
      "metadata": {
        "id": "STdvndgRwBSD"
      },
      "execution_count": null,
      "outputs": []
    },
    {
      "cell_type": "markdown",
      "source": [
        "GRU"
      ],
      "metadata": {
        "id": "ss7E2wW-Pn0e"
      }
    },
    {
      "cell_type": "code",
      "source": [
        "def answer(question):\n",
        "  vectorized_question = np.reshape(vectorizer(question).numpy(), (1, -1))\n",
        "  print(f'question: {question}\\nvectorized question: {vectorized_question}')\n",
        "  states = enc_model.predict(vectorized_question)\n",
        "\n",
        "  empty_target_seq = np.reshape(vectorizer(START_TOKEN).numpy(), (1, -1))\n",
        "  stop_condition = False\n",
        "  decoded_translation = ''\n",
        "  while not stop_condition:\n",
        "      dec_outputs, dec_states = dec_model.predict([empty_target_seq, states])         \n",
        "\n",
        "      sampled_word_index = np.argmax(dec_outputs[0, -1, :])\n",
        "      sampled_word = vectorizer.get_vocabulary()[sampled_word_index]\n",
        "      if sampled_word != END_TOKEN:\n",
        "        decoded_translation += f' {sampled_word}'\n",
        "      \n",
        "      if sampled_word == END_TOKEN or len(decoded_translation.split()) > MAX_ANSWER_LEN:\n",
        "          stop_condition = True\n",
        "\n",
        "      empty_target_seq = np.zeros((1, 1))\n",
        "      empty_target_seq[0, 0] = sampled_word_index\n",
        "      states = dec_states\n",
        "\n",
        "  return decoded_translation"
      ],
      "metadata": {
        "id": "ClhOOm9IV1B2"
      },
      "execution_count": null,
      "outputs": []
    },
    {
      "cell_type": "markdown",
      "source": [
        "LSTM"
      ],
      "metadata": {
        "id": "CMdruxmuPuE-"
      }
    },
    {
      "cell_type": "code",
      "source": [
        "def answer(question):\n",
        "  vectorized_question = np.reshape(vectorizer(question).numpy(), (1, -1))\n",
        "  print(f'question: {question}')\n",
        "  state_h, state_c = enc_model.predict(vectorized_question)\n",
        "\n",
        "  empty_target_seq = np.reshape(vectorizer(START_TOKEN).numpy(), (1, -1))\n",
        "  stop_condition = False\n",
        "  decoded_translation = 'answer : '\n",
        "  while not stop_condition:\n",
        "\n",
        "      dec_outputs, dec_state_h, dec_state_c = dec_model.predict([empty_target_seq, state_h, state_c])         \n",
        "\n",
        "      sampled_word_index = np.argmax(dec_outputs[0, -1, :])\n",
        "      sampled_word = vectorizer.get_vocabulary()[sampled_word_index]\n",
        "      if sampled_word != END_TOKEN:\n",
        "        decoded_translation += f' {sampled_word}'\n",
        "      \n",
        "      if sampled_word == END_TOKEN or len(decoded_translation.split()) > MAX_ANSWER_LEN:\n",
        "          stop_condition = True\n",
        "\n",
        "      empty_target_seq = np.zeros((1, 1))\n",
        "      empty_target_seq[0, 0] = sampled_word_index\n",
        "      state_h, state_c = dec_state_h, dec_state_c\n",
        "\n",
        "  return decoded_translation"
      ],
      "metadata": {
        "id": "CCWwEOZ1PT75"
      },
      "execution_count": null,
      "outputs": []
    },
    {
      "cell_type": "code",
      "source": [
        "print(answer('who would teach us the compilers subject?'))"
      ],
      "metadata": {
        "colab": {
          "base_uri": "https://localhost:8080/"
        },
        "id": "kvPdD_lchJKn",
        "outputId": "e0cfd230-e956-45a2-8103-00f085916111"
      },
      "execution_count": null,
      "outputs": [
        {
          "output_type": "stream",
          "name": "stdout",
          "text": [
            "question: who would teach us the compilers subject?\n",
            "answer :  the best thing you can buy is in the same for a 5 year old\n"
          ]
        }
      ]
    }
  ],
  "metadata": {
    "accelerator": "GPU",
    "colab": {
      "collapsed_sections": [
        "TRVgaBD4LbAt",
        "j7g8jMkdLk1p",
        "Aw2Vc9JLn_Bw",
        "Q9UQ7bNlLsxh",
        "SxaUfrJ30ui9",
        "euYL88R1oLfg",
        "xtCOOqRApjQN",
        "vm8Cq9zJPZRn",
        "BBVuWV_bOD4h",
        "B7GGTGdwOKgq",
        "h59vlbinSorS",
        "58pFQT6RwVO1",
        "kkZW2lP8SXy2",
        "2h4eYvwRRBBV",
        "vcgZXpudQ5IH",
        "1MNuBvihdPBl",
        "NsEgfBXI9o7z",
        "O3zIRa-I1j_x",
        "Dl0iKOj71pjn",
        "xqBmSdvt-OW7",
        "NM86pnIh_Fgj",
        "eMTFlSAUSlLU",
        "riTMuk7ISu-p",
        "-qPsmIzsS5I1",
        "VL0UzMFHS5I6",
        "OHRQR1ETL_Ev",
        "bnJ_4Qd9CkIJ",
        "qI2B94c7CG18",
        "zPM_qd2VHma0",
        "IwwgQgFDlpCq",
        "50SR8bV9HsV_",
        "PRhr1lHEOREQ"
      ],
      "provenance": [],
      "include_colab_link": true
    },
    "gpuClass": "standard",
    "kernelspec": {
      "display_name": "Python 3",
      "name": "python3"
    },
    "language_info": {
      "name": "python"
    }
  },
  "nbformat": 4,
  "nbformat_minor": 0
}