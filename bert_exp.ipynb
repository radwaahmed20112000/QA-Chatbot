{
  "nbformat": 4,
  "nbformat_minor": 0,
  "metadata": {
    "colab": {
      "provenance": [],
      "include_colab_link": true
    },
    "kernelspec": {
      "name": "python3",
      "display_name": "Python 3"
    },
    "language_info": {
      "name": "python"
    },
    "accelerator": "GPU",
    "widgets": {
      "application/vnd.jupyter.widget-state+json": {
        "cedf881e83c44e6e99cd8f70e8ba6d4e": {
          "model_module": "@jupyter-widgets/controls",
          "model_name": "HBoxModel",
          "model_module_version": "1.5.0",
          "state": {
            "_dom_classes": [],
            "_model_module": "@jupyter-widgets/controls",
            "_model_module_version": "1.5.0",
            "_model_name": "HBoxModel",
            "_view_count": null,
            "_view_module": "@jupyter-widgets/controls",
            "_view_module_version": "1.5.0",
            "_view_name": "HBoxView",
            "box_style": "",
            "children": [
              "IPY_MODEL_16b2e07f273c49a58aa0c4f7469fa122",
              "IPY_MODEL_e0b76c1186034b98b785060e9b9f3940",
              "IPY_MODEL_4832727095c249aba73659dbfff149f6"
            ],
            "layout": "IPY_MODEL_67ebd1281d0c47b19f8225eadfba8ca5"
          }
        },
        "16b2e07f273c49a58aa0c4f7469fa122": {
          "model_module": "@jupyter-widgets/controls",
          "model_name": "HTMLModel",
          "model_module_version": "1.5.0",
          "state": {
            "_dom_classes": [],
            "_model_module": "@jupyter-widgets/controls",
            "_model_module_version": "1.5.0",
            "_model_name": "HTMLModel",
            "_view_count": null,
            "_view_module": "@jupyter-widgets/controls",
            "_view_module_version": "1.5.0",
            "_view_name": "HTMLView",
            "description": "",
            "description_tooltip": null,
            "layout": "IPY_MODEL_e7f99e0623f0432ea2788e4c1e376d85",
            "placeholder": "​",
            "style": "IPY_MODEL_8d073626395a46548f3455b927de0a82",
            "value": ""
          }
        },
        "e0b76c1186034b98b785060e9b9f3940": {
          "model_module": "@jupyter-widgets/controls",
          "model_name": "FloatProgressModel",
          "model_module_version": "1.5.0",
          "state": {
            "_dom_classes": [],
            "_model_module": "@jupyter-widgets/controls",
            "_model_module_version": "1.5.0",
            "_model_name": "FloatProgressModel",
            "_view_count": null,
            "_view_module": "@jupyter-widgets/controls",
            "_view_module_version": "1.5.0",
            "_view_name": "ProgressView",
            "bar_style": "success",
            "description": "",
            "description_tooltip": null,
            "layout": "IPY_MODEL_8a2ee594dc6a4159927614304ce55f5d",
            "max": 1,
            "min": 0,
            "orientation": "horizontal",
            "style": "IPY_MODEL_635ce98430b04c0f9f67118c12fa5182",
            "value": 0
          }
        },
        "4832727095c249aba73659dbfff149f6": {
          "model_module": "@jupyter-widgets/controls",
          "model_name": "HTMLModel",
          "model_module_version": "1.5.0",
          "state": {
            "_dom_classes": [],
            "_model_module": "@jupyter-widgets/controls",
            "_model_module_version": "1.5.0",
            "_model_name": "HTMLModel",
            "_view_count": null,
            "_view_module": "@jupyter-widgets/controls",
            "_view_module_version": "1.5.0",
            "_view_name": "HTMLView",
            "description": "",
            "description_tooltip": null,
            "layout": "IPY_MODEL_2a3a754a7cb741198e69e20b038ff0ed",
            "placeholder": "​",
            "style": "IPY_MODEL_743e4499a7d64fc08a629992f69c0a79",
            "value": " 0/0 [00:00&lt;?, ?it/s]"
          }
        },
        "67ebd1281d0c47b19f8225eadfba8ca5": {
          "model_module": "@jupyter-widgets/base",
          "model_name": "LayoutModel",
          "model_module_version": "1.2.0",
          "state": {
            "_model_module": "@jupyter-widgets/base",
            "_model_module_version": "1.2.0",
            "_model_name": "LayoutModel",
            "_view_count": null,
            "_view_module": "@jupyter-widgets/base",
            "_view_module_version": "1.2.0",
            "_view_name": "LayoutView",
            "align_content": null,
            "align_items": null,
            "align_self": null,
            "border": null,
            "bottom": null,
            "display": null,
            "flex": null,
            "flex_flow": null,
            "grid_area": null,
            "grid_auto_columns": null,
            "grid_auto_flow": null,
            "grid_auto_rows": null,
            "grid_column": null,
            "grid_gap": null,
            "grid_row": null,
            "grid_template_areas": null,
            "grid_template_columns": null,
            "grid_template_rows": null,
            "height": null,
            "justify_content": null,
            "justify_items": null,
            "left": null,
            "margin": null,
            "max_height": null,
            "max_width": null,
            "min_height": null,
            "min_width": null,
            "object_fit": null,
            "object_position": null,
            "order": null,
            "overflow": null,
            "overflow_x": null,
            "overflow_y": null,
            "padding": null,
            "right": null,
            "top": null,
            "visibility": null,
            "width": null
          }
        },
        "e7f99e0623f0432ea2788e4c1e376d85": {
          "model_module": "@jupyter-widgets/base",
          "model_name": "LayoutModel",
          "model_module_version": "1.2.0",
          "state": {
            "_model_module": "@jupyter-widgets/base",
            "_model_module_version": "1.2.0",
            "_model_name": "LayoutModel",
            "_view_count": null,
            "_view_module": "@jupyter-widgets/base",
            "_view_module_version": "1.2.0",
            "_view_name": "LayoutView",
            "align_content": null,
            "align_items": null,
            "align_self": null,
            "border": null,
            "bottom": null,
            "display": null,
            "flex": null,
            "flex_flow": null,
            "grid_area": null,
            "grid_auto_columns": null,
            "grid_auto_flow": null,
            "grid_auto_rows": null,
            "grid_column": null,
            "grid_gap": null,
            "grid_row": null,
            "grid_template_areas": null,
            "grid_template_columns": null,
            "grid_template_rows": null,
            "height": null,
            "justify_content": null,
            "justify_items": null,
            "left": null,
            "margin": null,
            "max_height": null,
            "max_width": null,
            "min_height": null,
            "min_width": null,
            "object_fit": null,
            "object_position": null,
            "order": null,
            "overflow": null,
            "overflow_x": null,
            "overflow_y": null,
            "padding": null,
            "right": null,
            "top": null,
            "visibility": null,
            "width": null
          }
        },
        "8d073626395a46548f3455b927de0a82": {
          "model_module": "@jupyter-widgets/controls",
          "model_name": "DescriptionStyleModel",
          "model_module_version": "1.5.0",
          "state": {
            "_model_module": "@jupyter-widgets/controls",
            "_model_module_version": "1.5.0",
            "_model_name": "DescriptionStyleModel",
            "_view_count": null,
            "_view_module": "@jupyter-widgets/base",
            "_view_module_version": "1.2.0",
            "_view_name": "StyleView",
            "description_width": ""
          }
        },
        "8a2ee594dc6a4159927614304ce55f5d": {
          "model_module": "@jupyter-widgets/base",
          "model_name": "LayoutModel",
          "model_module_version": "1.2.0",
          "state": {
            "_model_module": "@jupyter-widgets/base",
            "_model_module_version": "1.2.0",
            "_model_name": "LayoutModel",
            "_view_count": null,
            "_view_module": "@jupyter-widgets/base",
            "_view_module_version": "1.2.0",
            "_view_name": "LayoutView",
            "align_content": null,
            "align_items": null,
            "align_self": null,
            "border": null,
            "bottom": null,
            "display": null,
            "flex": null,
            "flex_flow": null,
            "grid_area": null,
            "grid_auto_columns": null,
            "grid_auto_flow": null,
            "grid_auto_rows": null,
            "grid_column": null,
            "grid_gap": null,
            "grid_row": null,
            "grid_template_areas": null,
            "grid_template_columns": null,
            "grid_template_rows": null,
            "height": null,
            "justify_content": null,
            "justify_items": null,
            "left": null,
            "margin": null,
            "max_height": null,
            "max_width": null,
            "min_height": null,
            "min_width": null,
            "object_fit": null,
            "object_position": null,
            "order": null,
            "overflow": null,
            "overflow_x": null,
            "overflow_y": null,
            "padding": null,
            "right": null,
            "top": null,
            "visibility": null,
            "width": "20px"
          }
        },
        "635ce98430b04c0f9f67118c12fa5182": {
          "model_module": "@jupyter-widgets/controls",
          "model_name": "ProgressStyleModel",
          "model_module_version": "1.5.0",
          "state": {
            "_model_module": "@jupyter-widgets/controls",
            "_model_module_version": "1.5.0",
            "_model_name": "ProgressStyleModel",
            "_view_count": null,
            "_view_module": "@jupyter-widgets/base",
            "_view_module_version": "1.2.0",
            "_view_name": "StyleView",
            "bar_color": null,
            "description_width": ""
          }
        },
        "2a3a754a7cb741198e69e20b038ff0ed": {
          "model_module": "@jupyter-widgets/base",
          "model_name": "LayoutModel",
          "model_module_version": "1.2.0",
          "state": {
            "_model_module": "@jupyter-widgets/base",
            "_model_module_version": "1.2.0",
            "_model_name": "LayoutModel",
            "_view_count": null,
            "_view_module": "@jupyter-widgets/base",
            "_view_module_version": "1.2.0",
            "_view_name": "LayoutView",
            "align_content": null,
            "align_items": null,
            "align_self": null,
            "border": null,
            "bottom": null,
            "display": null,
            "flex": null,
            "flex_flow": null,
            "grid_area": null,
            "grid_auto_columns": null,
            "grid_auto_flow": null,
            "grid_auto_rows": null,
            "grid_column": null,
            "grid_gap": null,
            "grid_row": null,
            "grid_template_areas": null,
            "grid_template_columns": null,
            "grid_template_rows": null,
            "height": null,
            "justify_content": null,
            "justify_items": null,
            "left": null,
            "margin": null,
            "max_height": null,
            "max_width": null,
            "min_height": null,
            "min_width": null,
            "object_fit": null,
            "object_position": null,
            "order": null,
            "overflow": null,
            "overflow_x": null,
            "overflow_y": null,
            "padding": null,
            "right": null,
            "top": null,
            "visibility": null,
            "width": null
          }
        },
        "743e4499a7d64fc08a629992f69c0a79": {
          "model_module": "@jupyter-widgets/controls",
          "model_name": "DescriptionStyleModel",
          "model_module_version": "1.5.0",
          "state": {
            "_model_module": "@jupyter-widgets/controls",
            "_model_module_version": "1.5.0",
            "_model_name": "DescriptionStyleModel",
            "_view_count": null,
            "_view_module": "@jupyter-widgets/base",
            "_view_module_version": "1.2.0",
            "_view_name": "StyleView",
            "description_width": ""
          }
        },
        "e1d9d53478f744be91bc9328b03ae8b7": {
          "model_module": "@jupyter-widgets/controls",
          "model_name": "HBoxModel",
          "model_module_version": "1.5.0",
          "state": {
            "_dom_classes": [],
            "_model_module": "@jupyter-widgets/controls",
            "_model_module_version": "1.5.0",
            "_model_name": "HBoxModel",
            "_view_count": null,
            "_view_module": "@jupyter-widgets/controls",
            "_view_module_version": "1.5.0",
            "_view_name": "HBoxView",
            "box_style": "",
            "children": [
              "IPY_MODEL_eeb525a76b404b93984f558009a00b89",
              "IPY_MODEL_ea54f310b37e4238bd4dc32f88299486",
              "IPY_MODEL_4e0b9aba78c245ae911d9e672faf4e1f"
            ],
            "layout": "IPY_MODEL_4898ef07e62840fbb894fd5e9d07b55f"
          }
        },
        "eeb525a76b404b93984f558009a00b89": {
          "model_module": "@jupyter-widgets/controls",
          "model_name": "HTMLModel",
          "model_module_version": "1.5.0",
          "state": {
            "_dom_classes": [],
            "_model_module": "@jupyter-widgets/controls",
            "_model_module_version": "1.5.0",
            "_model_name": "HTMLModel",
            "_view_count": null,
            "_view_module": "@jupyter-widgets/controls",
            "_view_module_version": "1.5.0",
            "_view_name": "HTMLView",
            "description": "",
            "description_tooltip": null,
            "layout": "IPY_MODEL_3161cfb2cd5c4d88b7678bb5c2e37d9a",
            "placeholder": "​",
            "style": "IPY_MODEL_5bb072a0a82345ac9ed88a4d637227f3",
            "value": "Downloading: 100%"
          }
        },
        "ea54f310b37e4238bd4dc32f88299486": {
          "model_module": "@jupyter-widgets/controls",
          "model_name": "FloatProgressModel",
          "model_module_version": "1.5.0",
          "state": {
            "_dom_classes": [],
            "_model_module": "@jupyter-widgets/controls",
            "_model_module_version": "1.5.0",
            "_model_name": "FloatProgressModel",
            "_view_count": null,
            "_view_module": "@jupyter-widgets/controls",
            "_view_module_version": "1.5.0",
            "_view_name": "ProgressView",
            "bar_style": "success",
            "description": "",
            "description_tooltip": null,
            "layout": "IPY_MODEL_05a8e76484be4d408f287c176ed7a229",
            "max": 28,
            "min": 0,
            "orientation": "horizontal",
            "style": "IPY_MODEL_5d818858424c42b7a724e95d938d4c87",
            "value": 28
          }
        },
        "4e0b9aba78c245ae911d9e672faf4e1f": {
          "model_module": "@jupyter-widgets/controls",
          "model_name": "HTMLModel",
          "model_module_version": "1.5.0",
          "state": {
            "_dom_classes": [],
            "_model_module": "@jupyter-widgets/controls",
            "_model_module_version": "1.5.0",
            "_model_name": "HTMLModel",
            "_view_count": null,
            "_view_module": "@jupyter-widgets/controls",
            "_view_module_version": "1.5.0",
            "_view_name": "HTMLView",
            "description": "",
            "description_tooltip": null,
            "layout": "IPY_MODEL_f3e9826468134657b32a2f02e610950b",
            "placeholder": "​",
            "style": "IPY_MODEL_223868bc03da4975958156285d187b7f",
            "value": " 28.0/28.0 [00:00&lt;00:00, 608B/s]"
          }
        },
        "4898ef07e62840fbb894fd5e9d07b55f": {
          "model_module": "@jupyter-widgets/base",
          "model_name": "LayoutModel",
          "model_module_version": "1.2.0",
          "state": {
            "_model_module": "@jupyter-widgets/base",
            "_model_module_version": "1.2.0",
            "_model_name": "LayoutModel",
            "_view_count": null,
            "_view_module": "@jupyter-widgets/base",
            "_view_module_version": "1.2.0",
            "_view_name": "LayoutView",
            "align_content": null,
            "align_items": null,
            "align_self": null,
            "border": null,
            "bottom": null,
            "display": null,
            "flex": null,
            "flex_flow": null,
            "grid_area": null,
            "grid_auto_columns": null,
            "grid_auto_flow": null,
            "grid_auto_rows": null,
            "grid_column": null,
            "grid_gap": null,
            "grid_row": null,
            "grid_template_areas": null,
            "grid_template_columns": null,
            "grid_template_rows": null,
            "height": null,
            "justify_content": null,
            "justify_items": null,
            "left": null,
            "margin": null,
            "max_height": null,
            "max_width": null,
            "min_height": null,
            "min_width": null,
            "object_fit": null,
            "object_position": null,
            "order": null,
            "overflow": null,
            "overflow_x": null,
            "overflow_y": null,
            "padding": null,
            "right": null,
            "top": null,
            "visibility": null,
            "width": null
          }
        },
        "3161cfb2cd5c4d88b7678bb5c2e37d9a": {
          "model_module": "@jupyter-widgets/base",
          "model_name": "LayoutModel",
          "model_module_version": "1.2.0",
          "state": {
            "_model_module": "@jupyter-widgets/base",
            "_model_module_version": "1.2.0",
            "_model_name": "LayoutModel",
            "_view_count": null,
            "_view_module": "@jupyter-widgets/base",
            "_view_module_version": "1.2.0",
            "_view_name": "LayoutView",
            "align_content": null,
            "align_items": null,
            "align_self": null,
            "border": null,
            "bottom": null,
            "display": null,
            "flex": null,
            "flex_flow": null,
            "grid_area": null,
            "grid_auto_columns": null,
            "grid_auto_flow": null,
            "grid_auto_rows": null,
            "grid_column": null,
            "grid_gap": null,
            "grid_row": null,
            "grid_template_areas": null,
            "grid_template_columns": null,
            "grid_template_rows": null,
            "height": null,
            "justify_content": null,
            "justify_items": null,
            "left": null,
            "margin": null,
            "max_height": null,
            "max_width": null,
            "min_height": null,
            "min_width": null,
            "object_fit": null,
            "object_position": null,
            "order": null,
            "overflow": null,
            "overflow_x": null,
            "overflow_y": null,
            "padding": null,
            "right": null,
            "top": null,
            "visibility": null,
            "width": null
          }
        },
        "5bb072a0a82345ac9ed88a4d637227f3": {
          "model_module": "@jupyter-widgets/controls",
          "model_name": "DescriptionStyleModel",
          "model_module_version": "1.5.0",
          "state": {
            "_model_module": "@jupyter-widgets/controls",
            "_model_module_version": "1.5.0",
            "_model_name": "DescriptionStyleModel",
            "_view_count": null,
            "_view_module": "@jupyter-widgets/base",
            "_view_module_version": "1.2.0",
            "_view_name": "StyleView",
            "description_width": ""
          }
        },
        "05a8e76484be4d408f287c176ed7a229": {
          "model_module": "@jupyter-widgets/base",
          "model_name": "LayoutModel",
          "model_module_version": "1.2.0",
          "state": {
            "_model_module": "@jupyter-widgets/base",
            "_model_module_version": "1.2.0",
            "_model_name": "LayoutModel",
            "_view_count": null,
            "_view_module": "@jupyter-widgets/base",
            "_view_module_version": "1.2.0",
            "_view_name": "LayoutView",
            "align_content": null,
            "align_items": null,
            "align_self": null,
            "border": null,
            "bottom": null,
            "display": null,
            "flex": null,
            "flex_flow": null,
            "grid_area": null,
            "grid_auto_columns": null,
            "grid_auto_flow": null,
            "grid_auto_rows": null,
            "grid_column": null,
            "grid_gap": null,
            "grid_row": null,
            "grid_template_areas": null,
            "grid_template_columns": null,
            "grid_template_rows": null,
            "height": null,
            "justify_content": null,
            "justify_items": null,
            "left": null,
            "margin": null,
            "max_height": null,
            "max_width": null,
            "min_height": null,
            "min_width": null,
            "object_fit": null,
            "object_position": null,
            "order": null,
            "overflow": null,
            "overflow_x": null,
            "overflow_y": null,
            "padding": null,
            "right": null,
            "top": null,
            "visibility": null,
            "width": null
          }
        },
        "5d818858424c42b7a724e95d938d4c87": {
          "model_module": "@jupyter-widgets/controls",
          "model_name": "ProgressStyleModel",
          "model_module_version": "1.5.0",
          "state": {
            "_model_module": "@jupyter-widgets/controls",
            "_model_module_version": "1.5.0",
            "_model_name": "ProgressStyleModel",
            "_view_count": null,
            "_view_module": "@jupyter-widgets/base",
            "_view_module_version": "1.2.0",
            "_view_name": "StyleView",
            "bar_color": null,
            "description_width": ""
          }
        },
        "f3e9826468134657b32a2f02e610950b": {
          "model_module": "@jupyter-widgets/base",
          "model_name": "LayoutModel",
          "model_module_version": "1.2.0",
          "state": {
            "_model_module": "@jupyter-widgets/base",
            "_model_module_version": "1.2.0",
            "_model_name": "LayoutModel",
            "_view_count": null,
            "_view_module": "@jupyter-widgets/base",
            "_view_module_version": "1.2.0",
            "_view_name": "LayoutView",
            "align_content": null,
            "align_items": null,
            "align_self": null,
            "border": null,
            "bottom": null,
            "display": null,
            "flex": null,
            "flex_flow": null,
            "grid_area": null,
            "grid_auto_columns": null,
            "grid_auto_flow": null,
            "grid_auto_rows": null,
            "grid_column": null,
            "grid_gap": null,
            "grid_row": null,
            "grid_template_areas": null,
            "grid_template_columns": null,
            "grid_template_rows": null,
            "height": null,
            "justify_content": null,
            "justify_items": null,
            "left": null,
            "margin": null,
            "max_height": null,
            "max_width": null,
            "min_height": null,
            "min_width": null,
            "object_fit": null,
            "object_position": null,
            "order": null,
            "overflow": null,
            "overflow_x": null,
            "overflow_y": null,
            "padding": null,
            "right": null,
            "top": null,
            "visibility": null,
            "width": null
          }
        },
        "223868bc03da4975958156285d187b7f": {
          "model_module": "@jupyter-widgets/controls",
          "model_name": "DescriptionStyleModel",
          "model_module_version": "1.5.0",
          "state": {
            "_model_module": "@jupyter-widgets/controls",
            "_model_module_version": "1.5.0",
            "_model_name": "DescriptionStyleModel",
            "_view_count": null,
            "_view_module": "@jupyter-widgets/base",
            "_view_module_version": "1.2.0",
            "_view_name": "StyleView",
            "description_width": ""
          }
        },
        "f5e7a5d5f6a148f08350f59c4bcf43b9": {
          "model_module": "@jupyter-widgets/controls",
          "model_name": "HBoxModel",
          "model_module_version": "1.5.0",
          "state": {
            "_dom_classes": [],
            "_model_module": "@jupyter-widgets/controls",
            "_model_module_version": "1.5.0",
            "_model_name": "HBoxModel",
            "_view_count": null,
            "_view_module": "@jupyter-widgets/controls",
            "_view_module_version": "1.5.0",
            "_view_name": "HBoxView",
            "box_style": "",
            "children": [
              "IPY_MODEL_ecdd1ac6a2a9426f9c308ca0ac344c39",
              "IPY_MODEL_66cfebfb2dc74421b2d24dc840c41306",
              "IPY_MODEL_7f4d6b002a504423b2c8309238fb9727"
            ],
            "layout": "IPY_MODEL_9831f88457ab433db774f8e0551773c3"
          }
        },
        "ecdd1ac6a2a9426f9c308ca0ac344c39": {
          "model_module": "@jupyter-widgets/controls",
          "model_name": "HTMLModel",
          "model_module_version": "1.5.0",
          "state": {
            "_dom_classes": [],
            "_model_module": "@jupyter-widgets/controls",
            "_model_module_version": "1.5.0",
            "_model_name": "HTMLModel",
            "_view_count": null,
            "_view_module": "@jupyter-widgets/controls",
            "_view_module_version": "1.5.0",
            "_view_name": "HTMLView",
            "description": "",
            "description_tooltip": null,
            "layout": "IPY_MODEL_7c3527da8b274cbc903a308fab6bf45f",
            "placeholder": "​",
            "style": "IPY_MODEL_b00db99745c84a158252782cc9324b80",
            "value": "Downloading: 100%"
          }
        },
        "66cfebfb2dc74421b2d24dc840c41306": {
          "model_module": "@jupyter-widgets/controls",
          "model_name": "FloatProgressModel",
          "model_module_version": "1.5.0",
          "state": {
            "_dom_classes": [],
            "_model_module": "@jupyter-widgets/controls",
            "_model_module_version": "1.5.0",
            "_model_name": "FloatProgressModel",
            "_view_count": null,
            "_view_module": "@jupyter-widgets/controls",
            "_view_module_version": "1.5.0",
            "_view_name": "ProgressView",
            "bar_style": "success",
            "description": "",
            "description_tooltip": null,
            "layout": "IPY_MODEL_cf91b52989554559a0a1abc56dbb1581",
            "max": 231508,
            "min": 0,
            "orientation": "horizontal",
            "style": "IPY_MODEL_fd802bb6751743c8a1a1221b8d60f281",
            "value": 231508
          }
        },
        "7f4d6b002a504423b2c8309238fb9727": {
          "model_module": "@jupyter-widgets/controls",
          "model_name": "HTMLModel",
          "model_module_version": "1.5.0",
          "state": {
            "_dom_classes": [],
            "_model_module": "@jupyter-widgets/controls",
            "_model_module_version": "1.5.0",
            "_model_name": "HTMLModel",
            "_view_count": null,
            "_view_module": "@jupyter-widgets/controls",
            "_view_module_version": "1.5.0",
            "_view_name": "HTMLView",
            "description": "",
            "description_tooltip": null,
            "layout": "IPY_MODEL_200ffb1ef4184c559e7f7359516e8ebf",
            "placeholder": "​",
            "style": "IPY_MODEL_287cba1805b040b28a151d091056403d",
            "value": " 232k/232k [00:00&lt;00:00, 276kB/s]"
          }
        },
        "9831f88457ab433db774f8e0551773c3": {
          "model_module": "@jupyter-widgets/base",
          "model_name": "LayoutModel",
          "model_module_version": "1.2.0",
          "state": {
            "_model_module": "@jupyter-widgets/base",
            "_model_module_version": "1.2.0",
            "_model_name": "LayoutModel",
            "_view_count": null,
            "_view_module": "@jupyter-widgets/base",
            "_view_module_version": "1.2.0",
            "_view_name": "LayoutView",
            "align_content": null,
            "align_items": null,
            "align_self": null,
            "border": null,
            "bottom": null,
            "display": null,
            "flex": null,
            "flex_flow": null,
            "grid_area": null,
            "grid_auto_columns": null,
            "grid_auto_flow": null,
            "grid_auto_rows": null,
            "grid_column": null,
            "grid_gap": null,
            "grid_row": null,
            "grid_template_areas": null,
            "grid_template_columns": null,
            "grid_template_rows": null,
            "height": null,
            "justify_content": null,
            "justify_items": null,
            "left": null,
            "margin": null,
            "max_height": null,
            "max_width": null,
            "min_height": null,
            "min_width": null,
            "object_fit": null,
            "object_position": null,
            "order": null,
            "overflow": null,
            "overflow_x": null,
            "overflow_y": null,
            "padding": null,
            "right": null,
            "top": null,
            "visibility": null,
            "width": null
          }
        },
        "7c3527da8b274cbc903a308fab6bf45f": {
          "model_module": "@jupyter-widgets/base",
          "model_name": "LayoutModel",
          "model_module_version": "1.2.0",
          "state": {
            "_model_module": "@jupyter-widgets/base",
            "_model_module_version": "1.2.0",
            "_model_name": "LayoutModel",
            "_view_count": null,
            "_view_module": "@jupyter-widgets/base",
            "_view_module_version": "1.2.0",
            "_view_name": "LayoutView",
            "align_content": null,
            "align_items": null,
            "align_self": null,
            "border": null,
            "bottom": null,
            "display": null,
            "flex": null,
            "flex_flow": null,
            "grid_area": null,
            "grid_auto_columns": null,
            "grid_auto_flow": null,
            "grid_auto_rows": null,
            "grid_column": null,
            "grid_gap": null,
            "grid_row": null,
            "grid_template_areas": null,
            "grid_template_columns": null,
            "grid_template_rows": null,
            "height": null,
            "justify_content": null,
            "justify_items": null,
            "left": null,
            "margin": null,
            "max_height": null,
            "max_width": null,
            "min_height": null,
            "min_width": null,
            "object_fit": null,
            "object_position": null,
            "order": null,
            "overflow": null,
            "overflow_x": null,
            "overflow_y": null,
            "padding": null,
            "right": null,
            "top": null,
            "visibility": null,
            "width": null
          }
        },
        "b00db99745c84a158252782cc9324b80": {
          "model_module": "@jupyter-widgets/controls",
          "model_name": "DescriptionStyleModel",
          "model_module_version": "1.5.0",
          "state": {
            "_model_module": "@jupyter-widgets/controls",
            "_model_module_version": "1.5.0",
            "_model_name": "DescriptionStyleModel",
            "_view_count": null,
            "_view_module": "@jupyter-widgets/base",
            "_view_module_version": "1.2.0",
            "_view_name": "StyleView",
            "description_width": ""
          }
        },
        "cf91b52989554559a0a1abc56dbb1581": {
          "model_module": "@jupyter-widgets/base",
          "model_name": "LayoutModel",
          "model_module_version": "1.2.0",
          "state": {
            "_model_module": "@jupyter-widgets/base",
            "_model_module_version": "1.2.0",
            "_model_name": "LayoutModel",
            "_view_count": null,
            "_view_module": "@jupyter-widgets/base",
            "_view_module_version": "1.2.0",
            "_view_name": "LayoutView",
            "align_content": null,
            "align_items": null,
            "align_self": null,
            "border": null,
            "bottom": null,
            "display": null,
            "flex": null,
            "flex_flow": null,
            "grid_area": null,
            "grid_auto_columns": null,
            "grid_auto_flow": null,
            "grid_auto_rows": null,
            "grid_column": null,
            "grid_gap": null,
            "grid_row": null,
            "grid_template_areas": null,
            "grid_template_columns": null,
            "grid_template_rows": null,
            "height": null,
            "justify_content": null,
            "justify_items": null,
            "left": null,
            "margin": null,
            "max_height": null,
            "max_width": null,
            "min_height": null,
            "min_width": null,
            "object_fit": null,
            "object_position": null,
            "order": null,
            "overflow": null,
            "overflow_x": null,
            "overflow_y": null,
            "padding": null,
            "right": null,
            "top": null,
            "visibility": null,
            "width": null
          }
        },
        "fd802bb6751743c8a1a1221b8d60f281": {
          "model_module": "@jupyter-widgets/controls",
          "model_name": "ProgressStyleModel",
          "model_module_version": "1.5.0",
          "state": {
            "_model_module": "@jupyter-widgets/controls",
            "_model_module_version": "1.5.0",
            "_model_name": "ProgressStyleModel",
            "_view_count": null,
            "_view_module": "@jupyter-widgets/base",
            "_view_module_version": "1.2.0",
            "_view_name": "StyleView",
            "bar_color": null,
            "description_width": ""
          }
        },
        "200ffb1ef4184c559e7f7359516e8ebf": {
          "model_module": "@jupyter-widgets/base",
          "model_name": "LayoutModel",
          "model_module_version": "1.2.0",
          "state": {
            "_model_module": "@jupyter-widgets/base",
            "_model_module_version": "1.2.0",
            "_model_name": "LayoutModel",
            "_view_count": null,
            "_view_module": "@jupyter-widgets/base",
            "_view_module_version": "1.2.0",
            "_view_name": "LayoutView",
            "align_content": null,
            "align_items": null,
            "align_self": null,
            "border": null,
            "bottom": null,
            "display": null,
            "flex": null,
            "flex_flow": null,
            "grid_area": null,
            "grid_auto_columns": null,
            "grid_auto_flow": null,
            "grid_auto_rows": null,
            "grid_column": null,
            "grid_gap": null,
            "grid_row": null,
            "grid_template_areas": null,
            "grid_template_columns": null,
            "grid_template_rows": null,
            "height": null,
            "justify_content": null,
            "justify_items": null,
            "left": null,
            "margin": null,
            "max_height": null,
            "max_width": null,
            "min_height": null,
            "min_width": null,
            "object_fit": null,
            "object_position": null,
            "order": null,
            "overflow": null,
            "overflow_x": null,
            "overflow_y": null,
            "padding": null,
            "right": null,
            "top": null,
            "visibility": null,
            "width": null
          }
        },
        "287cba1805b040b28a151d091056403d": {
          "model_module": "@jupyter-widgets/controls",
          "model_name": "DescriptionStyleModel",
          "model_module_version": "1.5.0",
          "state": {
            "_model_module": "@jupyter-widgets/controls",
            "_model_module_version": "1.5.0",
            "_model_name": "DescriptionStyleModel",
            "_view_count": null,
            "_view_module": "@jupyter-widgets/base",
            "_view_module_version": "1.2.0",
            "_view_name": "StyleView",
            "description_width": ""
          }
        },
        "81b8ee8c2c4143caa6b0d4c401439da2": {
          "model_module": "@jupyter-widgets/controls",
          "model_name": "HBoxModel",
          "model_module_version": "1.5.0",
          "state": {
            "_dom_classes": [],
            "_model_module": "@jupyter-widgets/controls",
            "_model_module_version": "1.5.0",
            "_model_name": "HBoxModel",
            "_view_count": null,
            "_view_module": "@jupyter-widgets/controls",
            "_view_module_version": "1.5.0",
            "_view_name": "HBoxView",
            "box_style": "",
            "children": [
              "IPY_MODEL_484928fac18e4c978420cad0ad23f1ce",
              "IPY_MODEL_c006a80e2d9a427f97059756fa792582",
              "IPY_MODEL_c5324eaffda44983b2da50b054288fc7"
            ],
            "layout": "IPY_MODEL_aaec745e829b4d7da273afb88266ee1f"
          }
        },
        "484928fac18e4c978420cad0ad23f1ce": {
          "model_module": "@jupyter-widgets/controls",
          "model_name": "HTMLModel",
          "model_module_version": "1.5.0",
          "state": {
            "_dom_classes": [],
            "_model_module": "@jupyter-widgets/controls",
            "_model_module_version": "1.5.0",
            "_model_name": "HTMLModel",
            "_view_count": null,
            "_view_module": "@jupyter-widgets/controls",
            "_view_module_version": "1.5.0",
            "_view_name": "HTMLView",
            "description": "",
            "description_tooltip": null,
            "layout": "IPY_MODEL_ac582c305620451e86980cab857c58ef",
            "placeholder": "​",
            "style": "IPY_MODEL_6c895cba5abc423d968e06cb9a602f06",
            "value": "Downloading: 100%"
          }
        },
        "c006a80e2d9a427f97059756fa792582": {
          "model_module": "@jupyter-widgets/controls",
          "model_name": "FloatProgressModel",
          "model_module_version": "1.5.0",
          "state": {
            "_dom_classes": [],
            "_model_module": "@jupyter-widgets/controls",
            "_model_module_version": "1.5.0",
            "_model_name": "FloatProgressModel",
            "_view_count": null,
            "_view_module": "@jupyter-widgets/controls",
            "_view_module_version": "1.5.0",
            "_view_name": "ProgressView",
            "bar_style": "success",
            "description": "",
            "description_tooltip": null,
            "layout": "IPY_MODEL_142e601174e2405f9deb78f6f2e0e5ea",
            "max": 466062,
            "min": 0,
            "orientation": "horizontal",
            "style": "IPY_MODEL_bc10b1c3afa94ca4877cd73150253536",
            "value": 466062
          }
        },
        "c5324eaffda44983b2da50b054288fc7": {
          "model_module": "@jupyter-widgets/controls",
          "model_name": "HTMLModel",
          "model_module_version": "1.5.0",
          "state": {
            "_dom_classes": [],
            "_model_module": "@jupyter-widgets/controls",
            "_model_module_version": "1.5.0",
            "_model_name": "HTMLModel",
            "_view_count": null,
            "_view_module": "@jupyter-widgets/controls",
            "_view_module_version": "1.5.0",
            "_view_name": "HTMLView",
            "description": "",
            "description_tooltip": null,
            "layout": "IPY_MODEL_3f9261ac2e3d403382b2a9acefc61326",
            "placeholder": "​",
            "style": "IPY_MODEL_4b5373583aa34874a4d1d1154d28ea55",
            "value": " 466k/466k [00:01&lt;00:00, 495kB/s]"
          }
        },
        "aaec745e829b4d7da273afb88266ee1f": {
          "model_module": "@jupyter-widgets/base",
          "model_name": "LayoutModel",
          "model_module_version": "1.2.0",
          "state": {
            "_model_module": "@jupyter-widgets/base",
            "_model_module_version": "1.2.0",
            "_model_name": "LayoutModel",
            "_view_count": null,
            "_view_module": "@jupyter-widgets/base",
            "_view_module_version": "1.2.0",
            "_view_name": "LayoutView",
            "align_content": null,
            "align_items": null,
            "align_self": null,
            "border": null,
            "bottom": null,
            "display": null,
            "flex": null,
            "flex_flow": null,
            "grid_area": null,
            "grid_auto_columns": null,
            "grid_auto_flow": null,
            "grid_auto_rows": null,
            "grid_column": null,
            "grid_gap": null,
            "grid_row": null,
            "grid_template_areas": null,
            "grid_template_columns": null,
            "grid_template_rows": null,
            "height": null,
            "justify_content": null,
            "justify_items": null,
            "left": null,
            "margin": null,
            "max_height": null,
            "max_width": null,
            "min_height": null,
            "min_width": null,
            "object_fit": null,
            "object_position": null,
            "order": null,
            "overflow": null,
            "overflow_x": null,
            "overflow_y": null,
            "padding": null,
            "right": null,
            "top": null,
            "visibility": null,
            "width": null
          }
        },
        "ac582c305620451e86980cab857c58ef": {
          "model_module": "@jupyter-widgets/base",
          "model_name": "LayoutModel",
          "model_module_version": "1.2.0",
          "state": {
            "_model_module": "@jupyter-widgets/base",
            "_model_module_version": "1.2.0",
            "_model_name": "LayoutModel",
            "_view_count": null,
            "_view_module": "@jupyter-widgets/base",
            "_view_module_version": "1.2.0",
            "_view_name": "LayoutView",
            "align_content": null,
            "align_items": null,
            "align_self": null,
            "border": null,
            "bottom": null,
            "display": null,
            "flex": null,
            "flex_flow": null,
            "grid_area": null,
            "grid_auto_columns": null,
            "grid_auto_flow": null,
            "grid_auto_rows": null,
            "grid_column": null,
            "grid_gap": null,
            "grid_row": null,
            "grid_template_areas": null,
            "grid_template_columns": null,
            "grid_template_rows": null,
            "height": null,
            "justify_content": null,
            "justify_items": null,
            "left": null,
            "margin": null,
            "max_height": null,
            "max_width": null,
            "min_height": null,
            "min_width": null,
            "object_fit": null,
            "object_position": null,
            "order": null,
            "overflow": null,
            "overflow_x": null,
            "overflow_y": null,
            "padding": null,
            "right": null,
            "top": null,
            "visibility": null,
            "width": null
          }
        },
        "6c895cba5abc423d968e06cb9a602f06": {
          "model_module": "@jupyter-widgets/controls",
          "model_name": "DescriptionStyleModel",
          "model_module_version": "1.5.0",
          "state": {
            "_model_module": "@jupyter-widgets/controls",
            "_model_module_version": "1.5.0",
            "_model_name": "DescriptionStyleModel",
            "_view_count": null,
            "_view_module": "@jupyter-widgets/base",
            "_view_module_version": "1.2.0",
            "_view_name": "StyleView",
            "description_width": ""
          }
        },
        "142e601174e2405f9deb78f6f2e0e5ea": {
          "model_module": "@jupyter-widgets/base",
          "model_name": "LayoutModel",
          "model_module_version": "1.2.0",
          "state": {
            "_model_module": "@jupyter-widgets/base",
            "_model_module_version": "1.2.0",
            "_model_name": "LayoutModel",
            "_view_count": null,
            "_view_module": "@jupyter-widgets/base",
            "_view_module_version": "1.2.0",
            "_view_name": "LayoutView",
            "align_content": null,
            "align_items": null,
            "align_self": null,
            "border": null,
            "bottom": null,
            "display": null,
            "flex": null,
            "flex_flow": null,
            "grid_area": null,
            "grid_auto_columns": null,
            "grid_auto_flow": null,
            "grid_auto_rows": null,
            "grid_column": null,
            "grid_gap": null,
            "grid_row": null,
            "grid_template_areas": null,
            "grid_template_columns": null,
            "grid_template_rows": null,
            "height": null,
            "justify_content": null,
            "justify_items": null,
            "left": null,
            "margin": null,
            "max_height": null,
            "max_width": null,
            "min_height": null,
            "min_width": null,
            "object_fit": null,
            "object_position": null,
            "order": null,
            "overflow": null,
            "overflow_x": null,
            "overflow_y": null,
            "padding": null,
            "right": null,
            "top": null,
            "visibility": null,
            "width": null
          }
        },
        "bc10b1c3afa94ca4877cd73150253536": {
          "model_module": "@jupyter-widgets/controls",
          "model_name": "ProgressStyleModel",
          "model_module_version": "1.5.0",
          "state": {
            "_model_module": "@jupyter-widgets/controls",
            "_model_module_version": "1.5.0",
            "_model_name": "ProgressStyleModel",
            "_view_count": null,
            "_view_module": "@jupyter-widgets/base",
            "_view_module_version": "1.2.0",
            "_view_name": "StyleView",
            "bar_color": null,
            "description_width": ""
          }
        },
        "3f9261ac2e3d403382b2a9acefc61326": {
          "model_module": "@jupyter-widgets/base",
          "model_name": "LayoutModel",
          "model_module_version": "1.2.0",
          "state": {
            "_model_module": "@jupyter-widgets/base",
            "_model_module_version": "1.2.0",
            "_model_name": "LayoutModel",
            "_view_count": null,
            "_view_module": "@jupyter-widgets/base",
            "_view_module_version": "1.2.0",
            "_view_name": "LayoutView",
            "align_content": null,
            "align_items": null,
            "align_self": null,
            "border": null,
            "bottom": null,
            "display": null,
            "flex": null,
            "flex_flow": null,
            "grid_area": null,
            "grid_auto_columns": null,
            "grid_auto_flow": null,
            "grid_auto_rows": null,
            "grid_column": null,
            "grid_gap": null,
            "grid_row": null,
            "grid_template_areas": null,
            "grid_template_columns": null,
            "grid_template_rows": null,
            "height": null,
            "justify_content": null,
            "justify_items": null,
            "left": null,
            "margin": null,
            "max_height": null,
            "max_width": null,
            "min_height": null,
            "min_width": null,
            "object_fit": null,
            "object_position": null,
            "order": null,
            "overflow": null,
            "overflow_x": null,
            "overflow_y": null,
            "padding": null,
            "right": null,
            "top": null,
            "visibility": null,
            "width": null
          }
        },
        "4b5373583aa34874a4d1d1154d28ea55": {
          "model_module": "@jupyter-widgets/controls",
          "model_name": "DescriptionStyleModel",
          "model_module_version": "1.5.0",
          "state": {
            "_model_module": "@jupyter-widgets/controls",
            "_model_module_version": "1.5.0",
            "_model_name": "DescriptionStyleModel",
            "_view_count": null,
            "_view_module": "@jupyter-widgets/base",
            "_view_module_version": "1.2.0",
            "_view_name": "StyleView",
            "description_width": ""
          }
        },
        "630b1a0bb7ab43058ea853e4e2f715a4": {
          "model_module": "@jupyter-widgets/controls",
          "model_name": "HBoxModel",
          "model_module_version": "1.5.0",
          "state": {
            "_dom_classes": [],
            "_model_module": "@jupyter-widgets/controls",
            "_model_module_version": "1.5.0",
            "_model_name": "HBoxModel",
            "_view_count": null,
            "_view_module": "@jupyter-widgets/controls",
            "_view_module_version": "1.5.0",
            "_view_name": "HBoxView",
            "box_style": "",
            "children": [
              "IPY_MODEL_f0adb0195796488995b3a888e2560b64",
              "IPY_MODEL_48c4838e277348089b92881bddc9631b",
              "IPY_MODEL_f4de94a442a04fc0ab3a23fe554a16ee"
            ],
            "layout": "IPY_MODEL_f29765f7c0d542a28e29e1e3357f2b0b"
          }
        },
        "f0adb0195796488995b3a888e2560b64": {
          "model_module": "@jupyter-widgets/controls",
          "model_name": "HTMLModel",
          "model_module_version": "1.5.0",
          "state": {
            "_dom_classes": [],
            "_model_module": "@jupyter-widgets/controls",
            "_model_module_version": "1.5.0",
            "_model_name": "HTMLModel",
            "_view_count": null,
            "_view_module": "@jupyter-widgets/controls",
            "_view_module_version": "1.5.0",
            "_view_name": "HTMLView",
            "description": "",
            "description_tooltip": null,
            "layout": "IPY_MODEL_68facd0e98fe432f81c6d9e5807cd52d",
            "placeholder": "​",
            "style": "IPY_MODEL_c66d7072ca3741e0b473e44c5519a044",
            "value": "Downloading: 100%"
          }
        },
        "48c4838e277348089b92881bddc9631b": {
          "model_module": "@jupyter-widgets/controls",
          "model_name": "FloatProgressModel",
          "model_module_version": "1.5.0",
          "state": {
            "_dom_classes": [],
            "_model_module": "@jupyter-widgets/controls",
            "_model_module_version": "1.5.0",
            "_model_name": "FloatProgressModel",
            "_view_count": null,
            "_view_module": "@jupyter-widgets/controls",
            "_view_module_version": "1.5.0",
            "_view_name": "ProgressView",
            "bar_style": "success",
            "description": "",
            "description_tooltip": null,
            "layout": "IPY_MODEL_f5c9751cc66d4583a65205c3ba144464",
            "max": 570,
            "min": 0,
            "orientation": "horizontal",
            "style": "IPY_MODEL_96fd01d7834c41e38d83f120c025f909",
            "value": 570
          }
        },
        "f4de94a442a04fc0ab3a23fe554a16ee": {
          "model_module": "@jupyter-widgets/controls",
          "model_name": "HTMLModel",
          "model_module_version": "1.5.0",
          "state": {
            "_dom_classes": [],
            "_model_module": "@jupyter-widgets/controls",
            "_model_module_version": "1.5.0",
            "_model_name": "HTMLModel",
            "_view_count": null,
            "_view_module": "@jupyter-widgets/controls",
            "_view_module_version": "1.5.0",
            "_view_name": "HTMLView",
            "description": "",
            "description_tooltip": null,
            "layout": "IPY_MODEL_8cc30881e60f4a1ba8d837fd791b02f7",
            "placeholder": "​",
            "style": "IPY_MODEL_8e471f9f2b0c4cd0afa3a052523fabc4",
            "value": " 570/570 [00:00&lt;00:00, 16.1kB/s]"
          }
        },
        "f29765f7c0d542a28e29e1e3357f2b0b": {
          "model_module": "@jupyter-widgets/base",
          "model_name": "LayoutModel",
          "model_module_version": "1.2.0",
          "state": {
            "_model_module": "@jupyter-widgets/base",
            "_model_module_version": "1.2.0",
            "_model_name": "LayoutModel",
            "_view_count": null,
            "_view_module": "@jupyter-widgets/base",
            "_view_module_version": "1.2.0",
            "_view_name": "LayoutView",
            "align_content": null,
            "align_items": null,
            "align_self": null,
            "border": null,
            "bottom": null,
            "display": null,
            "flex": null,
            "flex_flow": null,
            "grid_area": null,
            "grid_auto_columns": null,
            "grid_auto_flow": null,
            "grid_auto_rows": null,
            "grid_column": null,
            "grid_gap": null,
            "grid_row": null,
            "grid_template_areas": null,
            "grid_template_columns": null,
            "grid_template_rows": null,
            "height": null,
            "justify_content": null,
            "justify_items": null,
            "left": null,
            "margin": null,
            "max_height": null,
            "max_width": null,
            "min_height": null,
            "min_width": null,
            "object_fit": null,
            "object_position": null,
            "order": null,
            "overflow": null,
            "overflow_x": null,
            "overflow_y": null,
            "padding": null,
            "right": null,
            "top": null,
            "visibility": null,
            "width": null
          }
        },
        "68facd0e98fe432f81c6d9e5807cd52d": {
          "model_module": "@jupyter-widgets/base",
          "model_name": "LayoutModel",
          "model_module_version": "1.2.0",
          "state": {
            "_model_module": "@jupyter-widgets/base",
            "_model_module_version": "1.2.0",
            "_model_name": "LayoutModel",
            "_view_count": null,
            "_view_module": "@jupyter-widgets/base",
            "_view_module_version": "1.2.0",
            "_view_name": "LayoutView",
            "align_content": null,
            "align_items": null,
            "align_self": null,
            "border": null,
            "bottom": null,
            "display": null,
            "flex": null,
            "flex_flow": null,
            "grid_area": null,
            "grid_auto_columns": null,
            "grid_auto_flow": null,
            "grid_auto_rows": null,
            "grid_column": null,
            "grid_gap": null,
            "grid_row": null,
            "grid_template_areas": null,
            "grid_template_columns": null,
            "grid_template_rows": null,
            "height": null,
            "justify_content": null,
            "justify_items": null,
            "left": null,
            "margin": null,
            "max_height": null,
            "max_width": null,
            "min_height": null,
            "min_width": null,
            "object_fit": null,
            "object_position": null,
            "order": null,
            "overflow": null,
            "overflow_x": null,
            "overflow_y": null,
            "padding": null,
            "right": null,
            "top": null,
            "visibility": null,
            "width": null
          }
        },
        "c66d7072ca3741e0b473e44c5519a044": {
          "model_module": "@jupyter-widgets/controls",
          "model_name": "DescriptionStyleModel",
          "model_module_version": "1.5.0",
          "state": {
            "_model_module": "@jupyter-widgets/controls",
            "_model_module_version": "1.5.0",
            "_model_name": "DescriptionStyleModel",
            "_view_count": null,
            "_view_module": "@jupyter-widgets/base",
            "_view_module_version": "1.2.0",
            "_view_name": "StyleView",
            "description_width": ""
          }
        },
        "f5c9751cc66d4583a65205c3ba144464": {
          "model_module": "@jupyter-widgets/base",
          "model_name": "LayoutModel",
          "model_module_version": "1.2.0",
          "state": {
            "_model_module": "@jupyter-widgets/base",
            "_model_module_version": "1.2.0",
            "_model_name": "LayoutModel",
            "_view_count": null,
            "_view_module": "@jupyter-widgets/base",
            "_view_module_version": "1.2.0",
            "_view_name": "LayoutView",
            "align_content": null,
            "align_items": null,
            "align_self": null,
            "border": null,
            "bottom": null,
            "display": null,
            "flex": null,
            "flex_flow": null,
            "grid_area": null,
            "grid_auto_columns": null,
            "grid_auto_flow": null,
            "grid_auto_rows": null,
            "grid_column": null,
            "grid_gap": null,
            "grid_row": null,
            "grid_template_areas": null,
            "grid_template_columns": null,
            "grid_template_rows": null,
            "height": null,
            "justify_content": null,
            "justify_items": null,
            "left": null,
            "margin": null,
            "max_height": null,
            "max_width": null,
            "min_height": null,
            "min_width": null,
            "object_fit": null,
            "object_position": null,
            "order": null,
            "overflow": null,
            "overflow_x": null,
            "overflow_y": null,
            "padding": null,
            "right": null,
            "top": null,
            "visibility": null,
            "width": null
          }
        },
        "96fd01d7834c41e38d83f120c025f909": {
          "model_module": "@jupyter-widgets/controls",
          "model_name": "ProgressStyleModel",
          "model_module_version": "1.5.0",
          "state": {
            "_model_module": "@jupyter-widgets/controls",
            "_model_module_version": "1.5.0",
            "_model_name": "ProgressStyleModel",
            "_view_count": null,
            "_view_module": "@jupyter-widgets/base",
            "_view_module_version": "1.2.0",
            "_view_name": "StyleView",
            "bar_color": null,
            "description_width": ""
          }
        },
        "8cc30881e60f4a1ba8d837fd791b02f7": {
          "model_module": "@jupyter-widgets/base",
          "model_name": "LayoutModel",
          "model_module_version": "1.2.0",
          "state": {
            "_model_module": "@jupyter-widgets/base",
            "_model_module_version": "1.2.0",
            "_model_name": "LayoutModel",
            "_view_count": null,
            "_view_module": "@jupyter-widgets/base",
            "_view_module_version": "1.2.0",
            "_view_name": "LayoutView",
            "align_content": null,
            "align_items": null,
            "align_self": null,
            "border": null,
            "bottom": null,
            "display": null,
            "flex": null,
            "flex_flow": null,
            "grid_area": null,
            "grid_auto_columns": null,
            "grid_auto_flow": null,
            "grid_auto_rows": null,
            "grid_column": null,
            "grid_gap": null,
            "grid_row": null,
            "grid_template_areas": null,
            "grid_template_columns": null,
            "grid_template_rows": null,
            "height": null,
            "justify_content": null,
            "justify_items": null,
            "left": null,
            "margin": null,
            "max_height": null,
            "max_width": null,
            "min_height": null,
            "min_width": null,
            "object_fit": null,
            "object_position": null,
            "order": null,
            "overflow": null,
            "overflow_x": null,
            "overflow_y": null,
            "padding": null,
            "right": null,
            "top": null,
            "visibility": null,
            "width": null
          }
        },
        "8e471f9f2b0c4cd0afa3a052523fabc4": {
          "model_module": "@jupyter-widgets/controls",
          "model_name": "DescriptionStyleModel",
          "model_module_version": "1.5.0",
          "state": {
            "_model_module": "@jupyter-widgets/controls",
            "_model_module_version": "1.5.0",
            "_model_name": "DescriptionStyleModel",
            "_view_count": null,
            "_view_module": "@jupyter-widgets/base",
            "_view_module_version": "1.2.0",
            "_view_name": "StyleView",
            "description_width": ""
          }
        }
      }
    }
  },
  "cells": [
    {
      "cell_type": "markdown",
      "metadata": {
        "id": "view-in-github",
        "colab_type": "text"
      },
      "source": [
        "<a href=\"https://colab.research.google.com/github/radwaahmed20112000/QA-Chatbot/blob/main/bert_exp.ipynb\" target=\"_parent\"><img src=\"https://colab.research.google.com/assets/colab-badge.svg\" alt=\"Open In Colab\"/></a>"
      ]
    },
    {
      "cell_type": "markdown",
      "source": [
        "#Preparing Dataset"
      ],
      "metadata": {
        "id": "B7TlumDbbnww"
      }
    },
    {
      "cell_type": "markdown",
      "source": [
        "### Imports\n"
      ],
      "metadata": {
        "id": "j7g8jMkdLk1p"
      }
    },
    {
      "cell_type": "code",
      "execution_count": null,
      "metadata": {
        "id": "vFwY_5F6Tyiz"
      },
      "outputs": [],
      "source": [
        "import numpy as np\n",
        "import pandas as pd \n",
        "import os\n",
        "import io\n",
        "import gzip\n",
        "from google.colab import drive\n",
        "from sklearn.model_selection import train_test_split"
      ]
    },
    {
      "cell_type": "code",
      "source": [
        "drive.mount('/content/drive')"
      ],
      "metadata": {
        "id": "PlqXiQqaWgGi",
        "colab": {
          "base_uri": "https://localhost:8080/"
        },
        "outputId": "7f5ddbbe-9da1-42f5-ad3f-894666e996a7"
      },
      "execution_count": null,
      "outputs": [
        {
          "output_type": "stream",
          "name": "stdout",
          "text": [
            "Mounted at /content/drive\n"
          ]
        }
      ]
    },
    {
      "cell_type": "code",
      "source": [
        "from keras import backend as K\n",
        "K._get_available_gpus()"
      ],
      "metadata": {
        "id": "wMjaXyIJjbiL",
        "colab": {
          "base_uri": "https://localhost:8080/"
        },
        "outputId": "1dd0ee92-edf4-47ce-e98f-b199c5f6b18b"
      },
      "execution_count": null,
      "outputs": [
        {
          "output_type": "execute_result",
          "data": {
            "text/plain": [
              "['/device:GPU:0']"
            ]
          },
          "metadata": {},
          "execution_count": 3
        }
      ]
    },
    {
      "cell_type": "markdown",
      "source": [
        "### Global Variables"
      ],
      "metadata": {
        "id": "Aw2Vc9JLn_Bw"
      }
    },
    {
      "cell_type": "code",
      "source": [
        "drive_root_path = '/content/drive/My Drive/Colab Notebooks/chatbot project/Chatbot/'\n",
        "test_dev_ratio = 0.2\n",
        "chitchat_train_set = chitchat_dev_set = chitchat_test_set = pd.DataFrame(columns=['question','answer'])\n",
        "categories_train_set, categories_dev_set, categories_test_set = [], [], []"
      ],
      "metadata": {
        "id": "_hOe6a6cnmOA"
      },
      "execution_count": null,
      "outputs": []
    },
    {
      "cell_type": "markdown",
      "source": [
        "### Dataset parsing\n"
      ],
      "metadata": {
        "id": "Q9UQ7bNlLsxh"
      }
    },
    {
      "cell_type": "code",
      "source": [
        "def parse(path):\n",
        "  g = gzip.open(path, 'rb')\n",
        "  \n",
        "  for l in g:\n",
        "    yield eval(l)"
      ],
      "metadata": {
        "id": "yd3GxwkLNp9C"
      },
      "execution_count": null,
      "outputs": []
    },
    {
      "cell_type": "code",
      "source": [
        "def getDF(path):\n",
        "  i = 0\n",
        "  df = {}\n",
        "\n",
        "  for d in parse(path):\n",
        "    df[i] = d\n",
        "    i += 1\n",
        "    \n",
        "  return pd.DataFrame.from_dict(df, orient='index')"
      ],
      "metadata": {
        "id": "4FIKct3eY7ew"
      },
      "execution_count": null,
      "outputs": []
    },
    {
      "cell_type": "markdown",
      "source": [
        "## Data load and Split"
      ],
      "metadata": {
        "id": "euYL88R1oLfg"
      }
    },
    {
      "cell_type": "markdown",
      "source": [
        "### Split"
      ],
      "metadata": {
        "id": "Y9EOgpF35WCW"
      }
    },
    {
      "cell_type": "code",
      "source": [
        "def data_split(dataset):\n",
        "\n",
        "  dataset = dataset.sample(frac=1, random_state=1).reset_index(drop=True)\n",
        "\n",
        "  train, test = train_test_split(dataset, test_size=test_dev_ratio, \n",
        "                                         random_state=0)\n",
        "\n",
        "  test, dev = train_test_split(test, test_size=0.5, \n",
        "                                         random_state=0) \n",
        "  \n",
        "  return train, dev, test"
      ],
      "metadata": {
        "id": "XILLtYrCTOVQ"
      },
      "execution_count": null,
      "outputs": []
    },
    {
      "cell_type": "markdown",
      "source": [
        "### Load"
      ],
      "metadata": {
        "id": "CDKWe5lf5ZCj"
      }
    },
    {
      "cell_type": "code",
      "source": [
        "def load_split_amazon_dataset():\n",
        "\n",
        "  global categories_train_set, categories_dev_set, categories_test_set\n",
        "\n",
        "  geners = ['qa_Clothing_Shoes_and_Jewelry.json.gz',\n",
        "            'qa_Health_and_Personal_Care.json.gz',\n",
        "            'qa_Sports_and_Outdoors.json.gz']\n",
        "\n",
        "  for gener in geners:\n",
        "\n",
        "    df = getDF(drive_root_path + gener)    \n",
        "    train, dev, test = data_split(df[['question', 'answer']])\n",
        "\n",
        "    categories_train_set.append(train)\n",
        "    categories_dev_set.append(dev)\n",
        "    categories_test_set.append(test)"
      ],
      "metadata": {
        "id": "nlFtb4Swaq4M"
      },
      "execution_count": null,
      "outputs": []
    },
    {
      "cell_type": "code",
      "source": [
        "def load_split_chitchat_dataset():\n",
        "  global chitchat_train_set, chitchat_dev_set, chitchat_test_set\n",
        "  data = pd.DataFrame(columns = [\"Question\", \"Answer\", \"Source\", \"Metadata\"])\n",
        "  files = [\"English_Professional.tsv\", \"English_Friendly.tsv\", \"English_Witty.tsv\", \"English_Caring.tsv\",   \"English_Enthusiastic.tsv\"]\n",
        "  for file in files:\n",
        "    path = drive_root_path + 'chitchat/' + file\n",
        "    df = pd.read_csv(path, sep='\\t')\n",
        "    data = pd.concat([data, df])\n",
        "  data = data[[\"Question\", \"Answer\"]].copy()\n",
        "  print('length of dataset = ', len(data))\n",
        "  data.rename(columns = {'Question':'question', 'Answer':'answer'}, inplace = True)\n",
        "  chitchat_train_set, chitchat_dev_set, chitchat_test_set = data_split(data)"
      ],
      "metadata": {
        "id": "dyH5i0NQls38"
      },
      "execution_count": null,
      "outputs": []
    },
    {
      "cell_type": "markdown",
      "source": [
        "### Shuffle Chitchat Dataset"
      ],
      "metadata": {
        "id": "BqCb7CxnMQON"
      }
    },
    {
      "cell_type": "code",
      "source": [
        "def shuffle_dataset():\n",
        "  global chitchat_train_set, chitchat_dev_set, chitchat_test_set\n",
        "  chitchat_train_set = chitchat_train_set.sample(frac=1, random_state=1).reset_index(drop=True)\n",
        "  chitchat_dev_set   = chitchat_dev_set.sample(frac=1, random_state=1).reset_index(drop=True)\n",
        "  chitchat_test_set  = chitchat_test_set.sample(frac=1, random_state=1).reset_index(drop=True)"
      ],
      "metadata": {
        "id": "FZySbOpJMQOO"
      },
      "execution_count": null,
      "outputs": []
    },
    {
      "cell_type": "markdown",
      "source": [
        "## Generate Data after processing\n"
      ],
      "metadata": {
        "id": "xtCOOqRApjQN"
      }
    },
    {
      "cell_type": "code",
      "source": [
        "load_split_chitchat_dataset()\n",
        "shuffle_dataset()"
      ],
      "metadata": {
        "colab": {
          "base_uri": "https://localhost:8080/"
        },
        "id": "yJqvp68EMvem",
        "outputId": "bbbaa2b5-6e05-4252-9ccd-82972cfd56ac"
      },
      "execution_count": null,
      "outputs": [
        {
          "output_type": "stream",
          "name": "stdout",
          "text": [
            "length of dataset =  48965\n"
          ]
        }
      ]
    },
    {
      "cell_type": "code",
      "source": [
        "train_data = chitchat_train_set\n",
        "test_data = chitchat_test_set\n",
        "val_data = chitchat_dev_set"
      ],
      "metadata": {
        "id": "NnqNs1XSqz-h"
      },
      "execution_count": null,
      "outputs": []
    },
    {
      "cell_type": "code",
      "source": [
        "val_data.shape"
      ],
      "metadata": {
        "colab": {
          "base_uri": "https://localhost:8080/"
        },
        "id": "oC9SgV-bSIlJ",
        "outputId": "5e5c8cff-60ca-4b6e-9ff8-57b5ff8a79f9"
      },
      "execution_count": null,
      "outputs": [
        {
          "output_type": "execute_result",
          "data": {
            "text/plain": [
              "(4897, 2)"
            ]
          },
          "metadata": {},
          "execution_count": 21
        }
      ]
    },
    {
      "cell_type": "markdown",
      "source": [
        "#Preprocessing Data"
      ],
      "metadata": {
        "id": "yUjVfTXKbx3q"
      }
    },
    {
      "cell_type": "markdown",
      "source": [
        "###Data Status"
      ],
      "metadata": {
        "id": "Af718iVefrOz"
      }
    },
    {
      "cell_type": "code",
      "source": [
        "from tensorflow.keras.preprocessing.text import Tokenizer \n",
        "keras_tokenizer = Tokenizer()\n",
        "keras_tokenizer.fit_on_texts(train_data['question'])\n",
        "tokenized_questions = keras_tokenizer.texts_to_sequences(train_data['question'])\n",
        "maxlen_questions = max([len(x) for x in tokenized_questions])\n",
        "print('questions max len = ', maxlen_questions)"
      ],
      "metadata": {
        "id": "SaDDd3Q0n1Ds",
        "colab": {
          "base_uri": "https://localhost:8080/"
        },
        "outputId": "4782f799-6c0e-4e4b-fb31-a9bca5b71ca0"
      },
      "execution_count": null,
      "outputs": [
        {
          "output_type": "stream",
          "name": "stdout",
          "text": [
            "questions max len =  15\n"
          ]
        }
      ]
    },
    {
      "cell_type": "code",
      "source": [
        "keras_tokenizer.fit_on_texts(train_data['answer'])\n",
        "tokenized_answers = keras_tokenizer.texts_to_sequences(train_data['answer'])\n",
        "maxlen_answers = max([len(x) for x in tokenized_answers])\n",
        "print('answers max len = ', maxlen_answers)"
      ],
      "metadata": {
        "colab": {
          "base_uri": "https://localhost:8080/"
        },
        "id": "cm0--FUGOMMU",
        "outputId": "48a67247-ea9c-4904-8807-185526910068"
      },
      "execution_count": null,
      "outputs": [
        {
          "output_type": "stream",
          "name": "stdout",
          "text": [
            "answers max len =  26\n"
          ]
        }
      ]
    },
    {
      "cell_type": "markdown",
      "source": [
        "###Prepare Bert Uncased Tokenizer"
      ],
      "metadata": {
        "id": "IReVJsrcfl9c"
      }
    },
    {
      "cell_type": "code",
      "metadata": {
        "id": "M0FWEkj8LThp",
        "colab": {
          "base_uri": "https://localhost:8080/",
          "referenced_widgets": [
            "cedf881e83c44e6e99cd8f70e8ba6d4e",
            "16b2e07f273c49a58aa0c4f7469fa122",
            "e0b76c1186034b98b785060e9b9f3940",
            "4832727095c249aba73659dbfff149f6",
            "67ebd1281d0c47b19f8225eadfba8ca5",
            "e7f99e0623f0432ea2788e4c1e376d85",
            "8d073626395a46548f3455b927de0a82",
            "8a2ee594dc6a4159927614304ce55f5d",
            "635ce98430b04c0f9f67118c12fa5182",
            "2a3a754a7cb741198e69e20b038ff0ed",
            "743e4499a7d64fc08a629992f69c0a79",
            "e1d9d53478f744be91bc9328b03ae8b7",
            "eeb525a76b404b93984f558009a00b89",
            "ea54f310b37e4238bd4dc32f88299486",
            "4e0b9aba78c245ae911d9e672faf4e1f",
            "4898ef07e62840fbb894fd5e9d07b55f",
            "3161cfb2cd5c4d88b7678bb5c2e37d9a",
            "5bb072a0a82345ac9ed88a4d637227f3",
            "05a8e76484be4d408f287c176ed7a229",
            "5d818858424c42b7a724e95d938d4c87",
            "f3e9826468134657b32a2f02e610950b",
            "223868bc03da4975958156285d187b7f",
            "f5e7a5d5f6a148f08350f59c4bcf43b9",
            "ecdd1ac6a2a9426f9c308ca0ac344c39",
            "66cfebfb2dc74421b2d24dc840c41306",
            "7f4d6b002a504423b2c8309238fb9727",
            "9831f88457ab433db774f8e0551773c3",
            "7c3527da8b274cbc903a308fab6bf45f",
            "b00db99745c84a158252782cc9324b80",
            "cf91b52989554559a0a1abc56dbb1581",
            "fd802bb6751743c8a1a1221b8d60f281",
            "200ffb1ef4184c559e7f7359516e8ebf",
            "287cba1805b040b28a151d091056403d",
            "81b8ee8c2c4143caa6b0d4c401439da2",
            "484928fac18e4c978420cad0ad23f1ce",
            "c006a80e2d9a427f97059756fa792582",
            "c5324eaffda44983b2da50b054288fc7",
            "aaec745e829b4d7da273afb88266ee1f",
            "ac582c305620451e86980cab857c58ef",
            "6c895cba5abc423d968e06cb9a602f06",
            "142e601174e2405f9deb78f6f2e0e5ea",
            "bc10b1c3afa94ca4877cd73150253536",
            "3f9261ac2e3d403382b2a9acefc61326",
            "4b5373583aa34874a4d1d1154d28ea55",
            "630b1a0bb7ab43058ea853e4e2f715a4",
            "f0adb0195796488995b3a888e2560b64",
            "48c4838e277348089b92881bddc9631b",
            "f4de94a442a04fc0ab3a23fe554a16ee",
            "f29765f7c0d542a28e29e1e3357f2b0b",
            "68facd0e98fe432f81c6d9e5807cd52d",
            "c66d7072ca3741e0b473e44c5519a044",
            "f5c9751cc66d4583a65205c3ba144464",
            "96fd01d7834c41e38d83f120c025f909",
            "8cc30881e60f4a1ba8d837fd791b02f7",
            "8e471f9f2b0c4cd0afa3a052523fabc4"
          ]
        },
        "outputId": "ee0383de-3269-4349-ad7b-4621105753c1"
      },
      "source": [
        "!pip install transformers\n",
        "from transformers import BertTokenizerFast\n",
        "import tensorflow as tf\n",
        "tokenizer = BertTokenizerFast.from_pretrained(\"bert-base-uncased\")"
      ],
      "execution_count": null,
      "outputs": [
        {
          "output_type": "stream",
          "name": "stdout",
          "text": [
            "Looking in indexes: https://pypi.org/simple, https://us-python.pkg.dev/colab-wheels/public/simple/\n",
            "Collecting transformers\n",
            "  Downloading transformers-4.22.1-py3-none-any.whl (4.9 MB)\n",
            "\u001b[K     |████████████████████████████████| 4.9 MB 27.4 MB/s \n",
            "\u001b[?25hRequirement already satisfied: filelock in /usr/local/lib/python3.7/dist-packages (from transformers) (3.8.0)\n",
            "Requirement already satisfied: tqdm>=4.27 in /usr/local/lib/python3.7/dist-packages (from transformers) (4.64.1)\n",
            "Requirement already satisfied: importlib-metadata in /usr/local/lib/python3.7/dist-packages (from transformers) (4.12.0)\n",
            "Collecting tokenizers!=0.11.3,<0.13,>=0.11.1\n",
            "  Downloading tokenizers-0.12.1-cp37-cp37m-manylinux_2_12_x86_64.manylinux2010_x86_64.whl (6.6 MB)\n",
            "\u001b[K     |████████████████████████████████| 6.6 MB 55.7 MB/s \n",
            "\u001b[?25hRequirement already satisfied: numpy>=1.17 in /usr/local/lib/python3.7/dist-packages (from transformers) (1.21.6)\n",
            "Requirement already satisfied: packaging>=20.0 in /usr/local/lib/python3.7/dist-packages (from transformers) (21.3)\n",
            "Collecting huggingface-hub<1.0,>=0.9.0\n",
            "  Downloading huggingface_hub-0.9.1-py3-none-any.whl (120 kB)\n",
            "\u001b[K     |████████████████████████████████| 120 kB 72.2 MB/s \n",
            "\u001b[?25hRequirement already satisfied: regex!=2019.12.17 in /usr/local/lib/python3.7/dist-packages (from transformers) (2022.6.2)\n",
            "Requirement already satisfied: pyyaml>=5.1 in /usr/local/lib/python3.7/dist-packages (from transformers) (6.0)\n",
            "Requirement already satisfied: requests in /usr/local/lib/python3.7/dist-packages (from transformers) (2.23.0)\n",
            "Requirement already satisfied: typing-extensions>=3.7.4.3 in /usr/local/lib/python3.7/dist-packages (from huggingface-hub<1.0,>=0.9.0->transformers) (4.1.1)\n",
            "Requirement already satisfied: pyparsing!=3.0.5,>=2.0.2 in /usr/local/lib/python3.7/dist-packages (from packaging>=20.0->transformers) (3.0.9)\n",
            "Requirement already satisfied: zipp>=0.5 in /usr/local/lib/python3.7/dist-packages (from importlib-metadata->transformers) (3.8.1)\n",
            "Requirement already satisfied: idna<3,>=2.5 in /usr/local/lib/python3.7/dist-packages (from requests->transformers) (2.10)\n",
            "Requirement already satisfied: certifi>=2017.4.17 in /usr/local/lib/python3.7/dist-packages (from requests->transformers) (2022.6.15)\n",
            "Requirement already satisfied: chardet<4,>=3.0.2 in /usr/local/lib/python3.7/dist-packages (from requests->transformers) (3.0.4)\n",
            "Requirement already satisfied: urllib3!=1.25.0,!=1.25.1,<1.26,>=1.21.1 in /usr/local/lib/python3.7/dist-packages (from requests->transformers) (1.24.3)\n",
            "Installing collected packages: tokenizers, huggingface-hub, transformers\n",
            "Successfully installed huggingface-hub-0.9.1 tokenizers-0.12.1 transformers-4.22.1\n"
          ]
        },
        {
          "output_type": "stream",
          "name": "stderr",
          "text": [
            "The cache for model files in Transformers v4.22.0 has been updated. Migrating your old cache. This is a one-time only operation. You can interrupt this and resume the migration later on by calling `transformers.utils.move_cache()`.\n"
          ]
        },
        {
          "output_type": "stream",
          "name": "stdout",
          "text": [
            "Moving 0 files to the new cache system\n"
          ]
        },
        {
          "output_type": "display_data",
          "data": {
            "text/plain": [
              "0it [00:00, ?it/s]"
            ],
            "application/vnd.jupyter.widget-view+json": {
              "version_major": 2,
              "version_minor": 0,
              "model_id": "cedf881e83c44e6e99cd8f70e8ba6d4e"
            }
          },
          "metadata": {}
        },
        {
          "output_type": "display_data",
          "data": {
            "text/plain": [
              "Downloading:   0%|          | 0.00/28.0 [00:00<?, ?B/s]"
            ],
            "application/vnd.jupyter.widget-view+json": {
              "version_major": 2,
              "version_minor": 0,
              "model_id": "e1d9d53478f744be91bc9328b03ae8b7"
            }
          },
          "metadata": {}
        },
        {
          "output_type": "display_data",
          "data": {
            "text/plain": [
              "Downloading:   0%|          | 0.00/232k [00:00<?, ?B/s]"
            ],
            "application/vnd.jupyter.widget-view+json": {
              "version_major": 2,
              "version_minor": 0,
              "model_id": "f5e7a5d5f6a148f08350f59c4bcf43b9"
            }
          },
          "metadata": {}
        },
        {
          "output_type": "display_data",
          "data": {
            "text/plain": [
              "Downloading:   0%|          | 0.00/466k [00:00<?, ?B/s]"
            ],
            "application/vnd.jupyter.widget-view+json": {
              "version_major": 2,
              "version_minor": 0,
              "model_id": "81b8ee8c2c4143caa6b0d4c401439da2"
            }
          },
          "metadata": {}
        },
        {
          "output_type": "display_data",
          "data": {
            "text/plain": [
              "Downloading:   0%|          | 0.00/570 [00:00<?, ?B/s]"
            ],
            "application/vnd.jupyter.widget-view+json": {
              "version_major": 2,
              "version_minor": 0,
              "model_id": "630b1a0bb7ab43058ea853e4e2f715a4"
            }
          },
          "metadata": {}
        }
      ]
    },
    {
      "cell_type": "markdown",
      "source": [
        "###Process Data"
      ],
      "metadata": {
        "id": "XlTTNexGzuce"
      }
    },
    {
      "cell_type": "code",
      "source": [
        "encoder_max_length= 16\n",
        "decoder_max_length= 32\n",
        "\n",
        "def process_data_to_model_inputs(data):\n",
        "  # tokenize the inputs and labels\n",
        "  inputs = tokenizer(data[\"question\"].tolist(), padding=\"max_length\", truncation=True, max_length=encoder_max_length)\n",
        "  outputs = tokenizer(data[\"answer\"].tolist(), padding=\"max_length\", truncation=True, max_length=decoder_max_length)\n",
        "\n",
        "  data[\"input_ids\"] = inputs.input_ids\n",
        "  data[\"attention_mask\"] = inputs.attention_mask\n",
        "  data[\"decoder_input_ids\"] = outputs.input_ids\n",
        "  data[\"decoder_attention_mask\"] = outputs.attention_mask\n",
        "  data[\"labels\"] = outputs.input_ids.copy()\n",
        "\n",
        "  # because BERT automatically shifts the labels, the labels correspond exactly to `decoder_input_ids`. \n",
        "  # We have to make sure that the PAD token is ignored\n",
        "  data[\"labels\"] = [[-100 if token == tokenizer.pad_token_id else token for token in labels] for labels in data[\"labels\"]]\n",
        "\n",
        "  return data"
      ],
      "metadata": {
        "id": "83a2BCMBzIN6"
      },
      "execution_count": null,
      "outputs": []
    },
    {
      "cell_type": "code",
      "source": [
        "train_data = process_data_to_model_inputs(train_data)\n",
        "train_data"
      ],
      "metadata": {
        "colab": {
          "base_uri": "https://localhost:8080/"
        },
        "id": "45zfKHZaz1B-",
        "outputId": "1233fccc-9968-4641-8753-0c17670e4931"
      },
      "execution_count": null,
      "outputs": [
        {
          "output_type": "execute_result",
          "data": {
            "text/plain": [
              "                                 question  \\\n",
              "0             Do I seem bad to you today?   \n",
              "1                    Are you ever hungry?   \n",
              "2             Tell me what is up with you   \n",
              "3              What's happening with you?   \n",
              "4          do you like golden retrievers?   \n",
              "...                                   ...   \n",
              "39167         Sometimes I feel bummed out   \n",
              "39168        I didn't find you very funny   \n",
              "39169  I'm laughing so hard my sides hurt   \n",
              "39170      What is your opinion of Eliza?   \n",
              "39171                      Are you queer?   \n",
              "\n",
              "                                                  answer  \\\n",
              "0      I don't have a way to know how you look, but I...   \n",
              "1      I don't need to eat, but food does sound prett...   \n",
              "2                          You know, same ol', same ol'.   \n",
              "3                                          Oh, not much!   \n",
              "4                                I like a lot of things.   \n",
              "...                                                  ...   \n",
              "39167  Sorry to hear that. Here's a virtual high five...   \n",
              "39168               Sometimes humor is tricky for a bot.   \n",
              "39169                                   You're laughing!   \n",
              "39170                            We're all here to help.   \n",
              "39171  Since I’m digital, I don't actually have a gen...   \n",
              "\n",
              "                                               input_ids  \\\n",
              "0      [101, 2079, 1045, 4025, 2919, 2000, 2017, 2651...   \n",
              "1      [101, 2024, 2017, 2412, 7501, 1029, 102, 0, 0,...   \n",
              "2      [101, 2425, 2033, 2054, 2003, 2039, 2007, 2017...   \n",
              "3      [101, 2054, 1005, 1055, 6230, 2007, 2017, 1029...   \n",
              "4      [101, 2079, 2017, 2066, 3585, 12850, 2869, 102...   \n",
              "...                                                  ...   \n",
              "39167  [101, 2823, 1045, 2514, 26352, 7583, 2041, 102...   \n",
              "39168  [101, 1045, 2134, 1005, 1056, 2424, 2017, 2200...   \n",
              "39169  [101, 1045, 1005, 1049, 5870, 2061, 2524, 2026...   \n",
              "39170  [101, 2054, 2003, 2115, 5448, 1997, 13234, 102...   \n",
              "39171  [101, 2024, 2017, 19483, 1029, 102, 0, 0, 0, 0...   \n",
              "\n",
              "                                         attention_mask  \\\n",
              "0      [1, 1, 1, 1, 1, 1, 1, 1, 1, 1, 0, 0, 0, 0, 0, 0]   \n",
              "1      [1, 1, 1, 1, 1, 1, 1, 0, 0, 0, 0, 0, 0, 0, 0, 0]   \n",
              "2      [1, 1, 1, 1, 1, 1, 1, 1, 1, 0, 0, 0, 0, 0, 0, 0]   \n",
              "3      [1, 1, 1, 1, 1, 1, 1, 1, 1, 0, 0, 0, 0, 0, 0, 0]   \n",
              "4      [1, 1, 1, 1, 1, 1, 1, 1, 1, 0, 0, 0, 0, 0, 0, 0]   \n",
              "...                                                 ...   \n",
              "39167  [1, 1, 1, 1, 1, 1, 1, 1, 0, 0, 0, 0, 0, 0, 0, 0]   \n",
              "39168  [1, 1, 1, 1, 1, 1, 1, 1, 1, 1, 0, 0, 0, 0, 0, 0]   \n",
              "39169  [1, 1, 1, 1, 1, 1, 1, 1, 1, 1, 1, 0, 0, 0, 0, 0]   \n",
              "39170  [1, 1, 1, 1, 1, 1, 1, 1, 1, 0, 0, 0, 0, 0, 0, 0]   \n",
              "39171  [1, 1, 1, 1, 1, 1, 0, 0, 0, 0, 0, 0, 0, 0, 0, 0]   \n",
              "\n",
              "                                       decoder_input_ids  \\\n",
              "0      [101, 1045, 2123, 1005, 1056, 2031, 1037, 2126...   \n",
              "1      [101, 1045, 2123, 1005, 1056, 2342, 2000, 4521...   \n",
              "2      [101, 2017, 2113, 1010, 2168, 19330, 1005, 101...   \n",
              "3      [101, 2821, 1010, 2025, 2172, 999, 102, 0, 0, ...   \n",
              "4      [101, 1045, 2066, 1037, 2843, 1997, 2477, 1012...   \n",
              "...                                                  ...   \n",
              "39167  [101, 3374, 2000, 2963, 2008, 1012, 2182, 1005...   \n",
              "39168  [101, 2823, 8562, 2003, 24026, 2005, 1037, 285...   \n",
              "39169  [101, 2017, 1005, 2128, 5870, 999, 102, 0, 0, ...   \n",
              "39170  [101, 2057, 1005, 2128, 2035, 2182, 2000, 2393...   \n",
              "39171  [101, 2144, 1045, 1521, 1049, 3617, 1010, 1045...   \n",
              "\n",
              "                                  decoder_attention_mask  \\\n",
              "0      [1, 1, 1, 1, 1, 1, 1, 1, 1, 1, 1, 1, 1, 1, 1, ...   \n",
              "1      [1, 1, 1, 1, 1, 1, 1, 1, 1, 1, 1, 1, 1, 1, 1, ...   \n",
              "2      [1, 1, 1, 1, 1, 1, 1, 1, 1, 1, 1, 1, 1, 0, 0, ...   \n",
              "3      [1, 1, 1, 1, 1, 1, 1, 0, 0, 0, 0, 0, 0, 0, 0, ...   \n",
              "4      [1, 1, 1, 1, 1, 1, 1, 1, 1, 0, 0, 0, 0, 0, 0, ...   \n",
              "...                                                  ...   \n",
              "39167  [1, 1, 1, 1, 1, 1, 1, 1, 1, 1, 1, 1, 1, 1, 1, ...   \n",
              "39168  [1, 1, 1, 1, 1, 1, 1, 1, 1, 1, 0, 0, 0, 0, 0, ...   \n",
              "39169  [1, 1, 1, 1, 1, 1, 1, 0, 0, 0, 0, 0, 0, 0, 0, ...   \n",
              "39170  [1, 1, 1, 1, 1, 1, 1, 1, 1, 1, 0, 0, 0, 0, 0, ...   \n",
              "39171  [1, 1, 1, 1, 1, 1, 1, 1, 1, 1, 1, 1, 1, 1, 1, ...   \n",
              "\n",
              "                                                  labels  \n",
              "0      [101, 1045, 2123, 1005, 1056, 2031, 1037, 2126...  \n",
              "1      [101, 1045, 2123, 1005, 1056, 2342, 2000, 4521...  \n",
              "2      [101, 2017, 2113, 1010, 2168, 19330, 1005, 101...  \n",
              "3      [101, 2821, 1010, 2025, 2172, 999, 102, -100, ...  \n",
              "4      [101, 1045, 2066, 1037, 2843, 1997, 2477, 1012...  \n",
              "...                                                  ...  \n",
              "39167  [101, 3374, 2000, 2963, 2008, 1012, 2182, 1005...  \n",
              "39168  [101, 2823, 8562, 2003, 24026, 2005, 1037, 285...  \n",
              "39169  [101, 2017, 1005, 2128, 5870, 999, 102, -100, ...  \n",
              "39170  [101, 2057, 1005, 2128, 2035, 2182, 2000, 2393...  \n",
              "39171  [101, 2144, 1045, 1521, 1049, 3617, 1010, 1045...  \n",
              "\n",
              "[39172 rows x 7 columns]"
            ],
            "text/html": [
              "\n",
              "  <div id=\"df-f0e8d739-72da-47b9-9755-40a87afc81cd\">\n",
              "    <div class=\"colab-df-container\">\n",
              "      <div>\n",
              "<style scoped>\n",
              "    .dataframe tbody tr th:only-of-type {\n",
              "        vertical-align: middle;\n",
              "    }\n",
              "\n",
              "    .dataframe tbody tr th {\n",
              "        vertical-align: top;\n",
              "    }\n",
              "\n",
              "    .dataframe thead th {\n",
              "        text-align: right;\n",
              "    }\n",
              "</style>\n",
              "<table border=\"1\" class=\"dataframe\">\n",
              "  <thead>\n",
              "    <tr style=\"text-align: right;\">\n",
              "      <th></th>\n",
              "      <th>question</th>\n",
              "      <th>answer</th>\n",
              "      <th>input_ids</th>\n",
              "      <th>attention_mask</th>\n",
              "      <th>decoder_input_ids</th>\n",
              "      <th>decoder_attention_mask</th>\n",
              "      <th>labels</th>\n",
              "    </tr>\n",
              "  </thead>\n",
              "  <tbody>\n",
              "    <tr>\n",
              "      <th>0</th>\n",
              "      <td>Do I seem bad to you today?</td>\n",
              "      <td>I don't have a way to know how you look, but I...</td>\n",
              "      <td>[101, 2079, 1045, 4025, 2919, 2000, 2017, 2651...</td>\n",
              "      <td>[1, 1, 1, 1, 1, 1, 1, 1, 1, 1, 0, 0, 0, 0, 0, 0]</td>\n",
              "      <td>[101, 1045, 2123, 1005, 1056, 2031, 1037, 2126...</td>\n",
              "      <td>[1, 1, 1, 1, 1, 1, 1, 1, 1, 1, 1, 1, 1, 1, 1, ...</td>\n",
              "      <td>[101, 1045, 2123, 1005, 1056, 2031, 1037, 2126...</td>\n",
              "    </tr>\n",
              "    <tr>\n",
              "      <th>1</th>\n",
              "      <td>Are you ever hungry?</td>\n",
              "      <td>I don't need to eat, but food does sound prett...</td>\n",
              "      <td>[101, 2024, 2017, 2412, 7501, 1029, 102, 0, 0,...</td>\n",
              "      <td>[1, 1, 1, 1, 1, 1, 1, 0, 0, 0, 0, 0, 0, 0, 0, 0]</td>\n",
              "      <td>[101, 1045, 2123, 1005, 1056, 2342, 2000, 4521...</td>\n",
              "      <td>[1, 1, 1, 1, 1, 1, 1, 1, 1, 1, 1, 1, 1, 1, 1, ...</td>\n",
              "      <td>[101, 1045, 2123, 1005, 1056, 2342, 2000, 4521...</td>\n",
              "    </tr>\n",
              "    <tr>\n",
              "      <th>2</th>\n",
              "      <td>Tell me what is up with you</td>\n",
              "      <td>You know, same ol', same ol'.</td>\n",
              "      <td>[101, 2425, 2033, 2054, 2003, 2039, 2007, 2017...</td>\n",
              "      <td>[1, 1, 1, 1, 1, 1, 1, 1, 1, 0, 0, 0, 0, 0, 0, 0]</td>\n",
              "      <td>[101, 2017, 2113, 1010, 2168, 19330, 1005, 101...</td>\n",
              "      <td>[1, 1, 1, 1, 1, 1, 1, 1, 1, 1, 1, 1, 1, 0, 0, ...</td>\n",
              "      <td>[101, 2017, 2113, 1010, 2168, 19330, 1005, 101...</td>\n",
              "    </tr>\n",
              "    <tr>\n",
              "      <th>3</th>\n",
              "      <td>What's happening with you?</td>\n",
              "      <td>Oh, not much!</td>\n",
              "      <td>[101, 2054, 1005, 1055, 6230, 2007, 2017, 1029...</td>\n",
              "      <td>[1, 1, 1, 1, 1, 1, 1, 1, 1, 0, 0, 0, 0, 0, 0, 0]</td>\n",
              "      <td>[101, 2821, 1010, 2025, 2172, 999, 102, 0, 0, ...</td>\n",
              "      <td>[1, 1, 1, 1, 1, 1, 1, 0, 0, 0, 0, 0, 0, 0, 0, ...</td>\n",
              "      <td>[101, 2821, 1010, 2025, 2172, 999, 102, -100, ...</td>\n",
              "    </tr>\n",
              "    <tr>\n",
              "      <th>4</th>\n",
              "      <td>do you like golden retrievers?</td>\n",
              "      <td>I like a lot of things.</td>\n",
              "      <td>[101, 2079, 2017, 2066, 3585, 12850, 2869, 102...</td>\n",
              "      <td>[1, 1, 1, 1, 1, 1, 1, 1, 1, 0, 0, 0, 0, 0, 0, 0]</td>\n",
              "      <td>[101, 1045, 2066, 1037, 2843, 1997, 2477, 1012...</td>\n",
              "      <td>[1, 1, 1, 1, 1, 1, 1, 1, 1, 0, 0, 0, 0, 0, 0, ...</td>\n",
              "      <td>[101, 1045, 2066, 1037, 2843, 1997, 2477, 1012...</td>\n",
              "    </tr>\n",
              "    <tr>\n",
              "      <th>...</th>\n",
              "      <td>...</td>\n",
              "      <td>...</td>\n",
              "      <td>...</td>\n",
              "      <td>...</td>\n",
              "      <td>...</td>\n",
              "      <td>...</td>\n",
              "      <td>...</td>\n",
              "    </tr>\n",
              "    <tr>\n",
              "      <th>39167</th>\n",
              "      <td>Sometimes I feel bummed out</td>\n",
              "      <td>Sorry to hear that. Here's a virtual high five...</td>\n",
              "      <td>[101, 2823, 1045, 2514, 26352, 7583, 2041, 102...</td>\n",
              "      <td>[1, 1, 1, 1, 1, 1, 1, 1, 0, 0, 0, 0, 0, 0, 0, 0]</td>\n",
              "      <td>[101, 3374, 2000, 2963, 2008, 1012, 2182, 1005...</td>\n",
              "      <td>[1, 1, 1, 1, 1, 1, 1, 1, 1, 1, 1, 1, 1, 1, 1, ...</td>\n",
              "      <td>[101, 3374, 2000, 2963, 2008, 1012, 2182, 1005...</td>\n",
              "    </tr>\n",
              "    <tr>\n",
              "      <th>39168</th>\n",
              "      <td>I didn't find you very funny</td>\n",
              "      <td>Sometimes humor is tricky for a bot.</td>\n",
              "      <td>[101, 1045, 2134, 1005, 1056, 2424, 2017, 2200...</td>\n",
              "      <td>[1, 1, 1, 1, 1, 1, 1, 1, 1, 1, 0, 0, 0, 0, 0, 0]</td>\n",
              "      <td>[101, 2823, 8562, 2003, 24026, 2005, 1037, 285...</td>\n",
              "      <td>[1, 1, 1, 1, 1, 1, 1, 1, 1, 1, 0, 0, 0, 0, 0, ...</td>\n",
              "      <td>[101, 2823, 8562, 2003, 24026, 2005, 1037, 285...</td>\n",
              "    </tr>\n",
              "    <tr>\n",
              "      <th>39169</th>\n",
              "      <td>I'm laughing so hard my sides hurt</td>\n",
              "      <td>You're laughing!</td>\n",
              "      <td>[101, 1045, 1005, 1049, 5870, 2061, 2524, 2026...</td>\n",
              "      <td>[1, 1, 1, 1, 1, 1, 1, 1, 1, 1, 1, 0, 0, 0, 0, 0]</td>\n",
              "      <td>[101, 2017, 1005, 2128, 5870, 999, 102, 0, 0, ...</td>\n",
              "      <td>[1, 1, 1, 1, 1, 1, 1, 0, 0, 0, 0, 0, 0, 0, 0, ...</td>\n",
              "      <td>[101, 2017, 1005, 2128, 5870, 999, 102, -100, ...</td>\n",
              "    </tr>\n",
              "    <tr>\n",
              "      <th>39170</th>\n",
              "      <td>What is your opinion of Eliza?</td>\n",
              "      <td>We're all here to help.</td>\n",
              "      <td>[101, 2054, 2003, 2115, 5448, 1997, 13234, 102...</td>\n",
              "      <td>[1, 1, 1, 1, 1, 1, 1, 1, 1, 0, 0, 0, 0, 0, 0, 0]</td>\n",
              "      <td>[101, 2057, 1005, 2128, 2035, 2182, 2000, 2393...</td>\n",
              "      <td>[1, 1, 1, 1, 1, 1, 1, 1, 1, 1, 0, 0, 0, 0, 0, ...</td>\n",
              "      <td>[101, 2057, 1005, 2128, 2035, 2182, 2000, 2393...</td>\n",
              "    </tr>\n",
              "    <tr>\n",
              "      <th>39171</th>\n",
              "      <td>Are you queer?</td>\n",
              "      <td>Since I’m digital, I don't actually have a gen...</td>\n",
              "      <td>[101, 2024, 2017, 19483, 1029, 102, 0, 0, 0, 0...</td>\n",
              "      <td>[1, 1, 1, 1, 1, 1, 0, 0, 0, 0, 0, 0, 0, 0, 0, 0]</td>\n",
              "      <td>[101, 2144, 1045, 1521, 1049, 3617, 1010, 1045...</td>\n",
              "      <td>[1, 1, 1, 1, 1, 1, 1, 1, 1, 1, 1, 1, 1, 1, 1, ...</td>\n",
              "      <td>[101, 2144, 1045, 1521, 1049, 3617, 1010, 1045...</td>\n",
              "    </tr>\n",
              "  </tbody>\n",
              "</table>\n",
              "<p>39172 rows × 7 columns</p>\n",
              "</div>\n",
              "      <button class=\"colab-df-convert\" onclick=\"convertToInteractive('df-f0e8d739-72da-47b9-9755-40a87afc81cd')\"\n",
              "              title=\"Convert this dataframe to an interactive table.\"\n",
              "              style=\"display:none;\">\n",
              "        \n",
              "  <svg xmlns=\"http://www.w3.org/2000/svg\" height=\"24px\"viewBox=\"0 0 24 24\"\n",
              "       width=\"24px\">\n",
              "    <path d=\"M0 0h24v24H0V0z\" fill=\"none\"/>\n",
              "    <path d=\"M18.56 5.44l.94 2.06.94-2.06 2.06-.94-2.06-.94-.94-2.06-.94 2.06-2.06.94zm-11 1L8.5 8.5l.94-2.06 2.06-.94-2.06-.94L8.5 2.5l-.94 2.06-2.06.94zm10 10l.94 2.06.94-2.06 2.06-.94-2.06-.94-.94-2.06-.94 2.06-2.06.94z\"/><path d=\"M17.41 7.96l-1.37-1.37c-.4-.4-.92-.59-1.43-.59-.52 0-1.04.2-1.43.59L10.3 9.45l-7.72 7.72c-.78.78-.78 2.05 0 2.83L4 21.41c.39.39.9.59 1.41.59.51 0 1.02-.2 1.41-.59l7.78-7.78 2.81-2.81c.8-.78.8-2.07 0-2.86zM5.41 20L4 18.59l7.72-7.72 1.47 1.35L5.41 20z\"/>\n",
              "  </svg>\n",
              "      </button>\n",
              "      \n",
              "  <style>\n",
              "    .colab-df-container {\n",
              "      display:flex;\n",
              "      flex-wrap:wrap;\n",
              "      gap: 12px;\n",
              "    }\n",
              "\n",
              "    .colab-df-convert {\n",
              "      background-color: #E8F0FE;\n",
              "      border: none;\n",
              "      border-radius: 50%;\n",
              "      cursor: pointer;\n",
              "      display: none;\n",
              "      fill: #1967D2;\n",
              "      height: 32px;\n",
              "      padding: 0 0 0 0;\n",
              "      width: 32px;\n",
              "    }\n",
              "\n",
              "    .colab-df-convert:hover {\n",
              "      background-color: #E2EBFA;\n",
              "      box-shadow: 0px 1px 2px rgba(60, 64, 67, 0.3), 0px 1px 3px 1px rgba(60, 64, 67, 0.15);\n",
              "      fill: #174EA6;\n",
              "    }\n",
              "\n",
              "    [theme=dark] .colab-df-convert {\n",
              "      background-color: #3B4455;\n",
              "      fill: #D2E3FC;\n",
              "    }\n",
              "\n",
              "    [theme=dark] .colab-df-convert:hover {\n",
              "      background-color: #434B5C;\n",
              "      box-shadow: 0px 1px 3px 1px rgba(0, 0, 0, 0.15);\n",
              "      filter: drop-shadow(0px 1px 2px rgba(0, 0, 0, 0.3));\n",
              "      fill: #FFFFFF;\n",
              "    }\n",
              "  </style>\n",
              "\n",
              "      <script>\n",
              "        const buttonEl =\n",
              "          document.querySelector('#df-f0e8d739-72da-47b9-9755-40a87afc81cd button.colab-df-convert');\n",
              "        buttonEl.style.display =\n",
              "          google.colab.kernel.accessAllowed ? 'block' : 'none';\n",
              "\n",
              "        async function convertToInteractive(key) {\n",
              "          const element = document.querySelector('#df-f0e8d739-72da-47b9-9755-40a87afc81cd');\n",
              "          const dataTable =\n",
              "            await google.colab.kernel.invokeFunction('convertToInteractive',\n",
              "                                                     [key], {});\n",
              "          if (!dataTable) return;\n",
              "\n",
              "          const docLinkHtml = 'Like what you see? Visit the ' +\n",
              "            '<a target=\"_blank\" href=https://colab.research.google.com/notebooks/data_table.ipynb>data table notebook</a>'\n",
              "            + ' to learn more about interactive tables.';\n",
              "          element.innerHTML = '';\n",
              "          dataTable['output_type'] = 'display_data';\n",
              "          await google.colab.output.renderOutput(dataTable, element);\n",
              "          const docLink = document.createElement('div');\n",
              "          docLink.innerHTML = docLinkHtml;\n",
              "          element.appendChild(docLink);\n",
              "        }\n",
              "      </script>\n",
              "    </div>\n",
              "  </div>\n",
              "  "
            ]
          },
          "metadata": {},
          "execution_count": 26
        }
      ]
    },
    {
      "cell_type": "code",
      "source": [
        "train_data = train_data.drop(['question', 'answer'], axis=1)"
      ],
      "metadata": {
        "id": "62XXteDf1EdP"
      },
      "execution_count": null,
      "outputs": []
    },
    {
      "cell_type": "code",
      "source": [
        "val_data = process_data_to_model_inputs(val_data)"
      ],
      "metadata": {
        "id": "RbFcWChBx_Af"
      },
      "execution_count": null,
      "outputs": []
    },
    {
      "cell_type": "code",
      "source": [
        "val_data = val_data.drop(['question', 'answer'], axis=1)"
      ],
      "metadata": {
        "id": "eANHIsSTx_Ah"
      },
      "execution_count": null,
      "outputs": []
    },
    {
      "cell_type": "markdown",
      "source": [
        "#Bert Model"
      ],
      "metadata": {
        "id": "xcL1TMJQll-q"
      }
    },
    {
      "cell_type": "markdown",
      "source": [
        "##Configure Model"
      ],
      "metadata": {
        "id": "6nhsu8K1EZHe"
      }
    },
    {
      "cell_type": "code",
      "source": [
        "!pip install transformers\n",
        "from transformers import EncoderDecoderModel\n",
        "bert2bert = EncoderDecoderModel.from_encoder_decoder_pretrained(\"bert-base-uncased\", \"bert-base-uncased\")\n",
        "bert2bert"
      ],
      "metadata": {
        "id": "VUnG-i07vesc"
      },
      "execution_count": null,
      "outputs": []
    },
    {
      "cell_type": "code",
      "source": [
        "bert2bert.save_pretrained(\"bert2bert\")"
      ],
      "metadata": {
        "id": "D-y4WBfzvn59"
      },
      "execution_count": null,
      "outputs": []
    },
    {
      "cell_type": "code",
      "source": [
        "bert2bert = EncoderDecoderModel.from_pretrained(\"bert2bert\")"
      ],
      "metadata": {
        "id": "oFxIfsj6vrZi"
      },
      "execution_count": null,
      "outputs": []
    },
    {
      "cell_type": "code",
      "source": [
        "bert2bert.config.decoder_start_token_id = tokenizer.cls_token_id\n",
        "bert2bert.config.eos_token_id = tokenizer.sep_token_id\n",
        "bert2bert.config.pad_token_id = tokenizer.pad_token_id\n",
        "bert2bert.config.vocab_size = bert2bert.config.encoder.vocab_size"
      ],
      "metadata": {
        "id": "29IuiM43vuaj"
      },
      "execution_count": null,
      "outputs": []
    },
    {
      "cell_type": "code",
      "source": [
        "#Bleu score config\n",
        "bert2bert.config.max_length = 142\n",
        "bert2bert.config.min_length = 56\n",
        "bert2bert.config.no_repeat_ngram_size = 3\n",
        "bert2bert.config.early_stopping = True\n",
        "bert2bert.config.length_penalty = 2.0\n",
        "bert2bert.config.num_beams = 4"
      ],
      "metadata": {
        "id": "DmRwPbMVv1MW"
      },
      "execution_count": null,
      "outputs": []
    },
    {
      "cell_type": "code",
      "metadata": {
        "id": "pyiwaF0noA5c"
      },
      "source": [
        "from transformers import Seq2SeqTrainer, Seq2SeqTrainingArguments"
      ],
      "execution_count": null,
      "outputs": []
    },
    {
      "cell_type": "code",
      "metadata": {
        "id": "CFf3BB7rKeBc"
      },
      "source": [
        "!pip install rouge_score\n",
        "!pip install sacrebleu"
      ],
      "execution_count": null,
      "outputs": []
    },
    {
      "cell_type": "code",
      "metadata": {
        "id": "68IHmFYLx09W"
      },
      "source": [
        "!pip install datasets\n",
        "import datasets\n",
        "rouge = datasets.load_metric(\"rouge\")"
      ],
      "execution_count": null,
      "outputs": []
    },
    {
      "cell_type": "code",
      "metadata": {
        "id": "iVKkr2xfNyRh"
      },
      "source": [
        "def compute_metrics(pred):\n",
        "    labels_ids = pred.label_ids\n",
        "    pred_ids = pred.predictions\n",
        "\n",
        "    pred_str = tokenizer.batch_decode(pred_ids, skip_special_tokens=True)\n",
        "    labels_ids[labels_ids == -100] = tokenizer.pad_token_id\n",
        "    label_str = tokenizer.batch_decode(labels_ids, skip_special_tokens=True)\n",
        "\n",
        "    rouge_output = rouge.compute(predictions=pred_str, references=label_str, rouge_types=[\"rouge2\"])[\"rouge2\"].mid\n",
        "\n",
        "    return {\n",
        "        \"rouge2_precision\": round(rouge_output.precision, 4),\n",
        "        \"rouge2_recall\": round(rouge_output.recall, 4),\n",
        "        \"rouge2_fmeasure\": round(rouge_output.fmeasure, 4),\n",
        "    }"
      ],
      "execution_count": null,
      "outputs": []
    },
    {
      "cell_type": "markdown",
      "source": [
        "##Training"
      ],
      "metadata": {
        "id": "U6-hFqQ3Egg0"
      }
    },
    {
      "cell_type": "markdown",
      "source": [
        "###Convert Dataframes to Datasets"
      ],
      "metadata": {
        "id": "bnoM1uNZEmU7"
      }
    },
    {
      "cell_type": "code",
      "source": [
        "from datasets import Dataset\n",
        "dataset_train = Dataset.from_pandas(train_data)\n",
        "dataset_val = Dataset.from_pandas(val_data)\n",
        "dataset_val.set_format(\n",
        "    type=\"torch\", columns=[\"input_ids\", \"attention_mask\", \"decoder_input_ids\", \"decoder_attention_mask\", \"labels\"],\n",
        ")\n",
        "dataset_train.set_format(\n",
        "    type=\"torch\", columns=[\"input_ids\", \"attention_mask\", \"decoder_input_ids\", \"decoder_attention_mask\", \"labels\"],\n",
        ")"
      ],
      "metadata": {
        "id": "1Qryq4L9EkTL"
      },
      "execution_count": null,
      "outputs": []
    },
    {
      "cell_type": "code",
      "source": [
        "batch_size = 64\n",
        "checkpoint_name = 'checkpoint-1500'\n",
        "path = '/content/drive/My Drive/Colab Notebooks/chatbot project/BertModel/checkpoints/model-2/'\n",
        "training_args = Seq2SeqTrainingArguments(\n",
        "    predict_with_generate=True,\n",
        "    per_device_train_batch_size=batch_size,\n",
        "    per_device_eval_batch_size=batch_size,\n",
        "    output_dir=path,\n",
        "    evaluation_strategy = \"epoch\",\n",
        "    learning_rate=2e-3,\n",
        "    num_train_epochs=10,\n",
        "    logging_strategy= \"epoch\"\n",
        "    #resume_from_checkpoint = path + checkpoint_name\n",
        "    # logging_steps=1000,\n",
        "    # save_steps=500,\n",
        "    # eval_steps=7500,\n",
        "    # warmup_steps=2000,\n",
        "    # save_total_limit=3,\n",
        ")"
      ],
      "metadata": {
        "id": "dwUUi3AUPjfW"
      },
      "execution_count": null,
      "outputs": []
    },
    {
      "cell_type": "markdown",
      "source": [
        "###Training Step"
      ],
      "metadata": {
        "id": "o-48ExM3Ex4m"
      }
    },
    {
      "cell_type": "code",
      "metadata": {
        "id": "cy7i1Q3D1qSI"
      },
      "source": [
        "# instantiate trainer\n",
        "trainer = Seq2SeqTrainer(\n",
        "    model=bert2bert,\n",
        "    args=training_args,\n",
        "    compute_metrics=compute_metrics,\n",
        "    train_dataset=dataset_train,\n",
        "    eval_dataset=dataset_val,\n",
        ")\n",
        "trainer.train()"
      ],
      "execution_count": null,
      "outputs": []
    },
    {
      "cell_type": "markdown",
      "source": [
        "##Evaluation"
      ],
      "metadata": {
        "id": "-rCTr5C9RK_n"
      }
    },
    {
      "cell_type": "code",
      "source": [
        "!pip install datasets\n",
        "!pip install transformers\n",
        "import tensorflow as tf\n",
        "from transformers import BertTokenizerFast\n",
        "from transformers import EncoderDecoderModel\n",
        "tokenizer = BertTokenizerFast.from_pretrained(\"bert-base-uncased\")\n",
        "save_path = '/content/drive/My Drive/Colab Notebooks/chatbot project/BertModel/checkpoints/model-2/checkpoint-1500'\n",
        "bert2bert = EncoderDecoderModel.from_pretrained(save_path).to('cuda')"
      ],
      "metadata": {
        "id": "DEIVlnBHRQI2"
      },
      "execution_count": null,
      "outputs": []
    },
    {
      "cell_type": "markdown",
      "source": [
        "###Rouge Testing"
      ],
      "metadata": {
        "id": "AifxhgdTTTPL"
      }
    },
    {
      "cell_type": "code",
      "source": [
        "def generate_answer(batch):\n",
        "    # cut off at BERT max length 512\n",
        "    inputs = tokenizer(batch[\"question\"], padding=\"max_length\", truncation=True, max_length=512, return_tensors=\"pt\")\n",
        "    input_ids = inputs.input_ids.to('cuda')\n",
        "    attention_mask = inputs.attention_mask.to('cuda')\n",
        "\n",
        "    outputs = bert2bert.generate(input_ids, attention_mask=attention_mask)\n",
        "\n",
        "    output_str = tokenizer.batch_decode(outputs, skip_special_tokens=True)\n",
        "\n",
        "    batch[\"pred_answer\"] = output_str\n",
        "\n",
        "    return batch"
      ],
      "metadata": {
        "id": "b9s73v2BSTyg"
      },
      "execution_count": null,
      "outputs": []
    },
    {
      "cell_type": "code",
      "source": [
        "#convert test dataframe to dataset\n",
        "from datasets import Dataset\n",
        "dataset_test = Dataset.from_pandas(test_data)"
      ],
      "metadata": {
        "id": "uA0QRxZnT-iw"
      },
      "execution_count": null,
      "outputs": []
    },
    {
      "cell_type": "code",
      "metadata": {
        "id": "bYmdx-W1NAky"
      },
      "source": [
        "batch_size = 16\n",
        "results = dataset_test.map(generate_answer, batched=True, batch_size=batch_size, remove_columns=[\"question\"])"
      ],
      "execution_count": null,
      "outputs": []
    },
    {
      "cell_type": "code",
      "metadata": {
        "id": "yfhyBz-ZsVJe"
      },
      "source": [
        "rouge.compute(predictions=results[\"pred_answer\"], references=results[\"highlights\"], rouge_types=[\"rouge2\"])[\"rouge2\"].mid"
      ],
      "execution_count": null,
      "outputs": []
    },
    {
      "cell_type": "markdown",
      "source": [
        "###Chatbot Answers"
      ],
      "metadata": {
        "id": "WN3F_yRtU_HA"
      }
    },
    {
      "cell_type": "code",
      "source": [
        "def answer(batch):\n",
        "    # cut off at BERT max length 512\n",
        "    inputs = tokenizer(batch[\"question\"], padding=\"max_length\", truncation=True, max_length=16, return_tensors=\"pt\")\n",
        "    input_ids = inputs.input_ids.to('cuda')\n",
        "    attention_mask = inputs.attention_mask.to('cuda')\n",
        "\n",
        "    outputs = bert2bert.generate(input_ids, attention_mask=attention_mask)\n",
        "\n",
        "    output_str = tokenizer.batch_decode(outputs, skip_special_tokens=True)\n",
        "    return output_str "
      ],
      "metadata": {
        "id": "WBCkTrFxVCaI"
      },
      "execution_count": null,
      "outputs": []
    },
    {
      "cell_type": "code",
      "source": [
        "from nltk.translate.bleu_score import sentence_bleu\n",
        "from nltk.translate.bleu_score import SmoothingFunction\n",
        "def bleu_score(y_true, y_pred):\n",
        "  return sentence_bleu(y_true, y_pred, smoothing_function=SmoothingFunction().method1)"
      ],
      "metadata": {
        "id": "pOoBBaO4HYPM"
      },
      "execution_count": null,
      "outputs": []
    },
    {
      "cell_type": "code",
      "source": [
        "arr = ['how are you', 'nice to meet you', 'tell me a joke', 'are you happy today']"
      ],
      "metadata": {
        "id": "6m4R1sDpAJc2"
      },
      "execution_count": null,
      "outputs": []
    },
    {
      "cell_type": "code",
      "source": [
        "data = [arr[0]]\n",
        "df = pd.DataFrame(data, columns=['question'])\n",
        "df = Dataset.from_pandas(df)\n",
        "re = answer(df)\n",
        "res = re[0]\n",
        "print(res)\n",
        "print('bleu score = ', bleu_score(['i am fine', 'i am good', 'i am great thanks'], res ))"
      ],
      "metadata": {
        "id": "hcYVbvw6AgWF"
      },
      "execution_count": null,
      "outputs": []
    }
  ]
}